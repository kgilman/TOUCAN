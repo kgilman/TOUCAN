{
 "cells": [
  {
   "cell_type": "code",
   "execution_count": 1,
   "metadata": {},
   "outputs": [],
   "source": [
    "import numpy as np\n",
    "import time\n",
    "import matplotlib.pyplot as plt\n",
    "from tsvd import *\n",
    "from tecpsgd import *\n",
    "from olstec import *\n",
    "from stc import *"
   ]
  },
  {
   "cell_type": "code",
   "execution_count": 2,
   "metadata": {},
   "outputs": [
    {
     "name": "stdout",
     "output_type": "stream",
     "text": [
      "(300, 1299, 70)\n",
      "0.022790987878037322\n",
      "-0.04075105223914733\n",
      "Time elapsed for tSVD: 6.833\n",
      "(300, 1299, 70)\n"
     ]
    }
   ],
   "source": [
    "###############################################################################################################3\n",
    "\n",
    "# datafile = np.load('/Users/kgilman/Desktop/WTD_upload/Toluene_200/L4array_10hz.npz')\n",
    "datafile = np.load('/Users/kgilman/Desktop/WTD_upload/Toluene_200/L4array_5hz.npz')\n",
    "# datafile = np.load('/Users/kgilman/Desktop/WTD_upload/Toluene_200/L4array_1hz.npz')\n",
    "\n",
    "data_large = datafile['arr_0']\n",
    "data_means = datafile['arr_1']\n",
    "data_norms = datafile['arr_2']\n",
    "\n",
    "###### Sample time in seconds ########\n",
    "# sample_time = 0.1\n",
    "sample_time = 0.2\n",
    "# sample_time = 1\n",
    "\n",
    "###### data is experiment x time x sensor #########\n",
    "\n",
    "#### Data cleaning ####\n",
    "data_large = data_large[:,1:,:]\n",
    "data = np.delete(data_large,32,2)       # delete data from 33rd sensor--bad sensor\n",
    "# data = np.delete(data,1103,1)\n",
    "# data = np.delete(data,2012,1)\n",
    "n1,n2,n3 = data.shape\n",
    "\n",
    "# n2 = 100\n",
    "\n",
    "num_sensors = int(np.floor(n3/10))\n",
    "\n",
    "# for idx in range(0,num_sensors):\n",
    "#     sensor = 10*idx + 10\n",
    "#     plt.subplot(num_sensors,1,idx+1)\n",
    "#     plt.plot(data_large[10,:,sensor])\n",
    "# plt.show()\n",
    "\n",
    "data = data[:,:n2,:]\n",
    "X = Tensor(data)\n",
    "# X = Tensor(np.transpose(data,[2,1,0]))\n",
    "print(X.shape())\n",
    "Xfrob = tfrobnorm(X)\n",
    "\n",
    "print(np.max(X.array()))\n",
    "print(np.min(X.array()))\n",
    "\n",
    "#### t-SVD Analysis ####\n",
    "\n",
    "tic = time.time()\n",
    "U,S,V = tsvd(X,full=False)\n",
    "toc = time.time()\n",
    "\n",
    "S = np.diag(S.array()[:,:,0])\n",
    "tElapsed = toc - tic\n",
    "print('Time elapsed for tSVD: {:.3f}'.format(tElapsed))\n",
    "\n",
    "\n",
    "#### Simulate missing entries by IID Bernoulli distribution ####\n",
    "rho = 0.75  # percentage of missing entries\n",
    "tube = False\n",
    "np.random.seed(0)\n",
    "if(tube is False):\n",
    "    mask = np.random.rand(n1, n2, n3)\n",
    "    mask[mask > rho] = 1\n",
    "    mask[mask <= rho] = 0\n",
    "    mask = mask.astype(int)\n",
    "else:\n",
    "    mask = np.random.rand(n1, n2)\n",
    "    mask[mask > rho] = 1\n",
    "    mask[mask <= rho] = 0\n",
    "    mask = mask.astype(int)\n",
    "    mask = np.repeat(mask[:, :, np.newaxis], n3, axis=2)\n",
    "\n",
    "# mask = np.transpose(mask,[2,1,0])\n",
    "Y = Tensor(X.array() * mask)\n",
    "print(Y.shape())\n"
   ]
  },
  {
   "cell_type": "code",
   "execution_count": 3,
   "metadata": {},
   "outputs": [
    {
     "data": {
      "image/png": "[encoded data removed]",
      "text/plain": [
       "<Figure size 720x360 with 1 Axes>"
      ]
     },
     "metadata": {
      "needs_background": "light"
     },
     "output_type": "display_data"
    },
    {
     "name": "stdout",
     "output_type": "stream",
     "text": [
      "75% power rank: 6\n"
     ]
    }
   ],
   "source": [
    "plt.figure(figsize=(10,5))\n",
    "plt.semilogy(S)\n",
    "# plt.xticks(np.arange(0, min(n1,n2), step=20))\n",
    "plt.rcParams.update({'font.size': 15})\n",
    "plt.show()\n",
    "\n",
    "total_sum = np.sum(S)\n",
    "pwrs = np.cumsum(S) / total_sum\n",
    "idx = np.where(pwrs < 0.75)\n",
    "print('75% power rank: '+ np.str(idx[0][-1] + 1))\n"
   ]
  },
  {
   "cell_type": "markdown",
   "metadata": {},
   "source": [
    "### TeCPSGD"
   ]
  },
  {
   "cell_type": "code",
   "execution_count": 4,
   "metadata": {},
   "outputs": [
    {
     "name": "stdout",
     "output_type": "stream",
     "text": [
      "TeCPSGD Time: 24.557278\n",
      "NRMSE TeCPSGD: 0.138728\n"
     ]
    }
   ],
   "source": [
    "## TeCPSGD\n",
    "from tecpsgd import *\n",
    "Tensor_Y_Noiseless = np.transpose(Y.array(),[0,2,1])\n",
    "# rank = 75\n",
    "rank = 30\n",
    "OmegaTensor = np.transpose(mask,[0,2,1])\n",
    "tensor_dims = [n1,n3,n2]\n",
    "maxepochs = 1\n",
    "tolcost = 1e-14\n",
    "permute_on = False\n",
    "\n",
    "options = {\n",
    "    'maxepochs': maxepochs,\n",
    "    'tolcost': tolcost,\n",
    "    'lam': 0.0001,\n",
    "    'stepsize': 100000,\n",
    "    'permute_on':  permute_on,\n",
    "    'store_subinfo': True,\n",
    "    'store_matrix': False,\n",
    "    'verbose': False\n",
    "}\n",
    "\n",
    "# options = {\n",
    "#     'maxepochs': maxepochs,\n",
    "#     'tolcost': tolcost,\n",
    "#     'lam': 0.0,\n",
    "#     'stepsize': 10000000,\n",
    "#     'permute_on':  permute_on,\n",
    "#     'store_subinfo': True,\n",
    "#     'store_matrix': False,\n",
    "#     'verbose': False\n",
    "# }\n",
    "np.random.seed(0)\n",
    "Xinit = {\n",
    "    'A': np.random.randn(tensor_dims[0], rank),\n",
    "    'B': np.random.randn(tensor_dims[1], rank),\n",
    "    'C': np.random.randn(tensor_dims[2], rank)\n",
    "}\n",
    "\n",
    "Xsol_TeCPSGD, Y_hat_tecpsgd, info_TeCPSGD, sub_infos_TeCPSGD = TeCPSGD(Tensor_Y_Noiseless, OmegaTensor, None, tensor_dims, rank,\n",
    "                                                          Xinit, options)\n",
    "\n",
    "A_t0 = Xsol_TeCPSGD['A']\n",
    "B_t0 = Xsol_TeCPSGD['B']\n",
    "C_t0 = Xsol_TeCPSGD['C']\n",
    "\n",
    "# Y_hat_tecpsgd = np.zeros(Tensor_Y_Noiseless.shape)\n",
    "# for f in range(0,n2):\n",
    "#     gamma = C_t0[f,:].T\n",
    "#     Y_hat_tecpsgd[:,:, f] = A_t0 @ np.diag(gamma) @ B_t0.T\n",
    "    \n",
    "Y_hat_tecpsgd = np.transpose(Y_hat_tecpsgd,[0,2,1])\n",
    "\n",
    "nrmse_tecpsgd = tfrobnorm(Tensor(Y_hat_tecpsgd) - X) / Xfrob\n",
    "tElapsed_tecpsgd = np.sum(sub_infos_TeCPSGD['times'])\n",
    "\n",
    "print('TeCPSGD Time: {:4f}'.format(tElapsed_tecpsgd))\n",
    "print('NRMSE TeCPSGD: {:6f}'.format(nrmse_tecpsgd))"
   ]
  },
  {
   "cell_type": "code",
   "execution_count": 5,
   "metadata": {},
   "outputs": [],
   "source": [
    "# s = np.diag(S.array()[:,:,0])\n",
    "# power80 = 0.8*np.sum(s)\n",
    "\n",
    "# cum_sum = 0\n",
    "# k = 0\n",
    "# for i in range(0,len(s)):\n",
    "#     cum_sum += s[i]\n",
    "#     k += 1\n",
    "#     if(cum_sum > power80):\n",
    "#         break\n",
    "\n",
    "# print('Number of LR t-SVD Approx Components: {:.3f}'.format(k))"
   ]
  },
  {
   "cell_type": "code",
   "execution_count": 6,
   "metadata": {},
   "outputs": [],
   "source": [
    "# # wind_sizes = [50, 100]\n",
    "# wind_sizes = [50, 100, 200, 300, 400, 500, 1000]\n",
    "# # wind_sizes = np.arange(5,500,20)\n",
    "# plt.rcParams.update({'font.size': 22})\n",
    "# fig,axs = plt.subplots(len(wind_sizes),1,figsize=(10,10),tight_layout=True)\n",
    "# iter = 0\n",
    "# for wind_size in wind_sizes:\n",
    "#     num_blocks = int(np.floor(n2/wind_size))\n",
    "#     num_comp = []\n",
    "\n",
    "#     for w in range(0,num_blocks):\n",
    "#         data = X.array()[:,wind_size*w:wind_size*w + wind_size,:]\n",
    "#         U,S,V = tsvd(Tensor(data),full=False)\n",
    "#         s = np.diag(S.array()[:,:,0])\n",
    "#         power80 = 0.8*np.sum(s)\n",
    "        \n",
    "#         cum_sum = 0\n",
    "#         k = 0\n",
    "#         for i in range(0,len(s)):\n",
    "#             cum_sum += s[i]\n",
    "#             k += 1\n",
    "#             if(cum_sum > power80):\n",
    "#                 break\n",
    "#         num_comp.append(k)\n",
    "\n",
    "#     axs[iter].plot(np.arange(0,(num_blocks) * wind_size),np.repeat(num_comp,wind_size),label='%s' % wind_size)\n",
    "# #     axs[iter].set_ylim([0, 10])\n",
    "#     iter += 1\n",
    "# fig.legend(loc='right', bbox_to_anchor=(1.2,0.5))\n",
    "# plt.savefig('tubal-rank-windows_gasdata.eps')\n",
    "# plt.show()\n",
    "    "
   ]
  },
  {
   "cell_type": "code",
   "execution_count": 7,
   "metadata": {},
   "outputs": [],
   "source": [
    "# diff = []\n",
    "# bad = []\n",
    "# for i in range(0,n2-1):\n",
    "#     diff_val = (np.linalg.norm(X.array()[:,i,:] - X.array()[:,i+1,:]) / np.linalg.norm(X.array()[:,i,:]))\n",
    "#     if(diff_val > 0.05):\n",
    "#         bad.append(i)\n",
    "#     diff.append(diff_val)\n",
    "\n",
    "# plt.semilogy(np.arange(0,len(diff)),diff)\n",
    "# plt.show()\n",
    "\n",
    "# print(bad)"
   ]
  },
  {
   "cell_type": "markdown",
   "metadata": {},
   "source": [
    "### STC"
   ]
  },
  {
   "cell_type": "code",
   "execution_count": 8,
   "metadata": {},
   "outputs": [
    {
     "name": "stdout",
     "output_type": "stream",
     "text": [
      "STC Time: 97.366519\n",
      "NRMSE STC: 0.098112\n"
     ]
    }
   ],
   "source": [
    "Tensor_Y = np.transpose(X.array(),[0,2,1])\n",
    "Mask_Y = np.transpose(mask,[0,2,1])\n",
    "numcycles = 1\n",
    "outer = 1\n",
    "r1 = 15\n",
    "r2 = 15\n",
    "r3 = 1\n",
    "fun = lambda Lhat,idx: [0, tfrobnorm_array(Lhat[:,:,idx] - Tensor_Y[:,:,idx]) / tfrobnorm_array(Tensor_Y[:,:,idx])]\n",
    "Lhat_stc, stats_stc, tElapsed = stc(Tensor_Y,Mask_Y,r1,r2,r3,outer,numcycles,fun=fun,verbose=False)\n",
    "\n",
    "Lhat_stc = np.transpose(Lhat_stc,[0,2,1])\n",
    "\n",
    "nrmse_stc = tfrobnorm(Tensor(Lhat_stc) - X) / Xfrob\n",
    "\n",
    "print('STC Time: {:4f}'.format(tElapsed))\n",
    "print('NRMSE STC: {:6f}'.format(nrmse_stc))"
   ]
  },
  {
   "cell_type": "markdown",
   "metadata": {},
   "source": [
    "### OLSTEC"
   ]
  },
  {
   "cell_type": "code",
   "execution_count": 9,
   "metadata": {},
   "outputs": [
    {
     "name": "stdout",
     "output_type": "stream",
     "text": [
      "(300, 70, 1299)\n",
      "OLSTEC Time: 194.305372\n",
      "NRMSE OLSTEC: 0.293941\n"
     ]
    }
   ],
   "source": [
    "## OLSTEC\n",
    "\n",
    "Tensor_Y_Noiseless = np.transpose(X.array(),[0,2,1])\n",
    "rank = 30\n",
    "OmegaTensor = np.transpose(mask,[0,2,1])\n",
    "tensor_dims = [n1,n3,n2]\n",
    "maxepochs = 1\n",
    "tolcost = 1e-14\n",
    "permute_on = False\n",
    "\n",
    "options = {\n",
    "    'maxepochs': maxepochs,\n",
    "    'tolcost': tolcost,\n",
    "    'lam': 0.9,\n",
    "    'mu': 1e-8,\n",
    "    'permute_on':  permute_on,\n",
    "    'store_subinfo': True,\n",
    "    'store_matrix': False,\n",
    "    'verbose': False,\n",
    "    'tw_flag': None,\n",
    "    'tw_len': None\n",
    "}\n",
    "\n",
    "# options = {\n",
    "#     'maxepochs': maxepochs,\n",
    "#     'tolcost': tolcost,\n",
    "#     'lam': 1e-4,\n",
    "#     'mu': 1e-8,\n",
    "#     'permute_on':  permute_on,\n",
    "#     'store_subinfo': True,\n",
    "#     'store_matrix': False,\n",
    "#     'verbose': False,\n",
    "#     'tw_flag': None,\n",
    "#     'tw_len': None\n",
    "# }\n",
    "\n",
    "np.random.seed(0)\n",
    "Xinit = {\n",
    "    'A': np.random.randn(tensor_dims[0], rank),\n",
    "    'B': np.random.randn(tensor_dims[1], rank),\n",
    "    'C': np.random.randn(tensor_dims[2], rank)\n",
    "}\n",
    "\n",
    "print(Tensor_Y_Noiseless.shape)\n",
    "Xsol_olstec, Y_hat_olstec, info_olstec, sub_infos_olstec = OLSTEC(Tensor_Y_Noiseless, OmegaTensor, None, tensor_dims, rank,\n",
    "                                                          Xinit, options)\n",
    "\n",
    "A_t0 = Xsol_olstec['A']\n",
    "B_t0 = Xsol_olstec['B']\n",
    "C_t0 = Xsol_olstec['C']\n",
    "\n",
    "# Y_hat_olstec = np.zeros(Tensor_Y_Noiseless.shape)\n",
    "# for f in range(0,n2):\n",
    "#     gamma = C_t0[f,:].T\n",
    "#     Y_hat_olstec[:,:,f] = A_t0 @ np.diag(gamma) @ B_t0.T\n",
    "    \n",
    "Y_hat_olstec = np.transpose(Y_hat_olstec,[0,2,1])\n",
    "\n",
    "nrmse_olstec = tfrobnorm(Tensor(Y_hat_olstec) - X) / Xfrob\n",
    "tElapsed_olstec = np.sum(sub_infos_olstec['times'])\n",
    "\n",
    "print('OLSTEC Time: {:4f}'.format(tElapsed_olstec))\n",
    "print('NRMSE OLSTEC: {:6f}'.format(nrmse_olstec))\n"
   ]
  },
  {
   "cell_type": "code",
   "execution_count": 10,
   "metadata": {},
   "outputs": [],
   "source": [
    "# ## TeCPSGD\n",
    "\n",
    "# Tensor_Y_Noiseless = np.transpose(X.array(),[0,2,1])\n",
    "# rank = 30\n",
    "# OmegaTensor = np.transpose(mask,[0,2,1])\n",
    "# tensor_dims = [n1,n3,n2]\n",
    "# maxepochs = 1\n",
    "# tolcost = 1e-14\n",
    "# permute_on = False\n",
    "\n",
    "# options = {\n",
    "#     'maxepochs': maxepochs,\n",
    "#     'tolcost': tolcost,\n",
    "#     'lam': 0.001,\n",
    "#     'stepsize': 0.1,\n",
    "#     'mu': 0.05,\n",
    "#     'permute_on':  permute_on,\n",
    "#     'store_subinfo': True,\n",
    "#     'store_matrix': False,\n",
    "#     'verbose': True\n",
    "# }\n",
    "\n",
    "# Xinit = {\n",
    "#     'A': np.random.randn(tensor_dims[0], rank),\n",
    "#     'B': np.random.randn(tensor_dims[1], rank),\n",
    "#     'C': np.random.randn(tensor_dims[2], rank)\n",
    "# }\n",
    "\n",
    "# Xsol_TeCPSGD, info_TeCPSGD, sub_infos_TeCPSGD = TeCPSGD(Tensor_Y_Noiseless, OmegaTensor, None, tensor_dims, rank,\n",
    "#                                                           Xinit, options)\n",
    "\n",
    "# A_t0 = Xsol_TeCPSGD['A']\n",
    "# B_t0 = Xsol_TeCPSGD['B']\n",
    "# C_t0 = Xsol_TeCPSGD['C']\n",
    "\n",
    "# Y_hat_cp = np.zeros(Tensor_Y_Noiseless.shape)\n",
    "# for f in range(0,n2):\n",
    "#     gamma = C_t0[f,:].T\n",
    "#     Y_hat_cp[:,:, f] = A_t0 @ np.diag(gamma) @ B_t0.T\n",
    "    \n",
    "# Y_hat_cp = np.transpose(Y_hat_cp,[0,2,1])\n",
    "\n",
    "# nrmse_cp = tfrobnorm(Tensor(Y_hat_cp) - X) / Xfrob\n",
    "# print('NRMSE CP: {:6f}'.format(nrmse_cp))"
   ]
  },
  {
   "cell_type": "code",
   "execution_count": 11,
   "metadata": {},
   "outputs": [],
   "source": [
    "# nrmse_cp = tfrobnorm(Tensor(Y_hat_cp) - X) / Xfrob\n",
    "# print('NRMSE CP: {:6f}'.format(nrmse_cp))"
   ]
  },
  {
   "cell_type": "markdown",
   "metadata": {},
   "source": [
    "### TOUCAN"
   ]
  },
  {
   "cell_type": "code",
   "execution_count": 12,
   "metadata": {},
   "outputs": [
    {
     "name": "stdout",
     "output_type": "stream",
     "text": [
      "TOUCAN Time: 14.835289\n"
     ]
    }
   ],
   "source": [
    "################################ TOUCAN #######################################\n",
    "rank = 1\n",
    "# fun = lambda L: [0, tfrobnorm(L - X) / Xfrob]\n",
    "fun = lambda Q,k: [0, tfrobnorm_array(Q.array()[:,k,:] - X.array()[:,k,:]) / tfrobnorm_array(X.array()[:,k,:])]\n",
    "# fun = lambda Q,k : [0,0]\n",
    "Y_hat_toucan, U_toucan,stats_toucan, tElapsed_toucan = toucan(Y,mask,rank,tube=False,outer=1,cgtol=1e-6,mode='online',fun=fun,\n",
    "                                                     randomOrder=False,verbose=False)\n",
    "print('TOUCAN Time: {:4f}'.format(tElapsed_toucan))"
   ]
  },
  {
   "cell_type": "code",
   "execution_count": 13,
   "metadata": {},
   "outputs": [
    {
     "name": "stdout",
     "output_type": "stream",
     "text": [
      "NRMSE TOUCAN: 0.090254\n"
     ]
    }
   ],
   "source": [
    "times_toucan = stats_toucan[1:,-1]\n",
    "toucan_err = tfrobnorm(Y_hat_toucan - X) / Xfrob\n",
    "print('NRMSE TOUCAN: {:6f}'.format(toucan_err))"
   ]
  },
  {
   "cell_type": "markdown",
   "metadata": {},
   "source": [
    "### GROUSE"
   ]
  },
  {
   "cell_type": "code",
   "execution_count": 14,
   "metadata": {},
   "outputs": [],
   "source": [
    "# Ym = lr_flatten(Y.array())\n",
    "# mask_m = lr_flatten(mask)\n",
    "\n",
    "# U,S,V = np.linalg.svd(Ym,full_matrices=False)\n",
    "# plt.plot(S)\n",
    "# plt.show()\n",
    "\n",
    "# Lhat_grouse,stats,tElapsed = grouse(Ym,mask_m,1,1,mode='online',step=None)\n",
    "# Lhat_grouse = np.reshape(Lhat_grouse,(n3,n1,n2))\n",
    "# Lhat_grouse = Tensor(np.transpose(Lhat_grouse,(1,2,0)))\n",
    "\n",
    "\n",
    "# grouse_err = tfrobnorm(Lhat_grouse - X) / Xfrob\n",
    "# print('NRMSE GROUSE: {:6f}'.format(grouse_err))\n",
    "\n",
    "# experiments = [0]\n",
    "# sensors = [24, 30, 33, 34, 35, 37, 42, 44, 45]\n",
    "# #### Plot tracking results ####\n",
    "# for test in experiments:\n",
    "#     fig, (ax1) = plt.subplots(figsize=(8,8), ncols=1, sharey=True, tight_layout=True)\n",
    "#     for sensor in sensors:\n",
    "#         ax1.plot(X.array()[test,100:200,sensor],label='$%i$'%sensor)\n",
    "#         ax1.plot(Lhat_grouse.array()[test,100:200,sensor],label='$%i$'%sensor)\n",
    "#         ax1.title.set_text('True')\n",
    "    \n",
    "#         ax1.scatter(np.arange(0,100),Y.array()[test,100:200,sensor], s=20,label='$%i$'%sensor)\n",
    "\n",
    "\n",
    "#     fig.add_subplot(111, frameon=False)\n",
    "#     plt.tick_params(labelcolor='none', top='off', bottom='off', left='off', right='off')\n",
    "#     plt.grid(False)\n",
    "#     plt.xlabel(\"Number of time slices\")\n",
    "# #     handles, labels = ax2.get_legend_handles_labels()\n",
    "# #     plt.legend(handles, labels,title=\"Sensor #\", loc='right', bbox_to_anchor=(1.2,0.5))\n",
    "# #     fig.suptitle('Experiment %i'%test)\n",
    "#     plt.rcParams.update({'font.size': 22})\n",
    "#     name = 'gas_sensor_tracking-' + str(test)+ '-' + str(int(rho*100)) + '%'+'.eps'\n",
    "# #     plt.savefig(name)\n",
    "#     plt.show()\n",
    "\n",
    "# # experiment_times = np.arange(0,n2*sample_time,sample_time)\n",
    "# # for test in experiments:\n",
    "# #     fig, (ax1, ax2) = plt.subplots(figsize=(15,10), ncols=2, sharey=True, sharex=True, tight_layout=True)\n",
    "# #     for sensor in sensors:\n",
    "# #         ax1.plot(experiment_times,X.array()[test,:,sensor]*data_norms[test] + data_means[test,sensor],\n",
    "# #                  label='$%i$'%sensor)\n",
    "# #         ax1.title.set_text('True')\n",
    "\n",
    "# # #         times_toucan[times_toucan < 0.1] = 0.1\n",
    "# #         ax2.plot(np.cumsum(times_toucan),Y_hat_toucan.array()[test,:,sensor]*data_norms[test] + data_means[test,sensor],\n",
    "# #                  label='$%i$'%sensor )\n",
    "# #         ax2.title.set_text('Predicted')\n",
    "\n",
    "# #     fig.add_subplot(111, frameon=False)\n",
    "# #     plt.tick_params(labelcolor='none', top='off', bottom='off', left='off', right='off')\n",
    "# #     plt.grid(False)\n",
    "# #     plt.xlabel(\"Time (s)\")\n",
    "# #     plt.rcParams.update({'font.size': 30})\n",
    "# #     handles, labels = ax2.get_legend_handles_labels()\n",
    "# #     plt.legend(handles, labels, title=\"Sensor #\", loc='right', bbox_to_anchor=(1.25,0.5))\n",
    "# # #     fig.suptitle('Experiment %i' % test)\n",
    "\n",
    "# #     name = 'gas_sensor_tracking_time-' + str(test)+ '-' + str(int(rho*100)) + '%'+'.eps'\n",
    "# # #     plt.savefig(name)\n",
    "# #     plt.show()"
   ]
  },
  {
   "cell_type": "markdown",
   "metadata": {},
   "source": [
    "### TNN-ADMM"
   ]
  },
  {
   "cell_type": "code",
   "execution_count": 15,
   "metadata": {},
   "outputs": [
    {
     "name": "stdout",
     "output_type": "stream",
     "text": [
      "Iter[0]: Cost fxn: 0.000, NRMSE: 1.000000 \n",
      "Iter[10]: Cost fxn: 0.000, NRMSE: 1.000000 \n",
      "Iter[20]: Cost fxn: 0.000, NRMSE: 0.313989 \n",
      "Iter[30]: Cost fxn: 0.000, NRMSE: 0.040120 \n",
      "Iter[40]: Cost fxn: 0.000, NRMSE: 0.032588 \n",
      "Iter[50]: Cost fxn: 0.000, NRMSE: 0.032532 \n",
      "TNN Time: 315.560041\n",
      "NRMSE TNN-ADMM: 0.032532\n"
     ]
    }
   ],
   "source": [
    "# ## TNN-ADMM\n",
    "fun = lambda L: [0,tfrobnorm(L - X) / Xfrob]\n",
    "Y_hat_tnn,stats_tnn,tElapsed_tnn = lrtc(Y,mask,rho=1.5,niter = 75,min_iter=50,it_tol = 1e-4,fun=fun,verbose=True)\n",
    "print('TNN Time: {:4f}'.format(tElapsed_tnn))\n",
    "\n",
    "tnn_err = tfrobnorm(Y_hat_tnn - X) / Xfrob\n",
    "print('NRMSE TNN-ADMM: {:6f}'.format(tnn_err))"
   ]
  },
  {
   "cell_type": "markdown",
   "metadata": {},
   "source": [
    "### TCTF"
   ]
  },
  {
   "cell_type": "code",
   "execution_count": 18,
   "metadata": {},
   "outputs": [
    {
     "name": "stdout",
     "output_type": "stream",
     "text": [
      "Iter[1]: NRMSE: 0.603793 \n",
      "Iter[11]: NRMSE: 0.168521 \n",
      "Iter[21]: NRMSE: 0.093035 \n",
      "Iter[31]: NRMSE: 0.076984 \n",
      "Iter[41]: NRMSE: 0.075500 \n",
      "Iter[51]: NRMSE: 0.075216 \n",
      "TCTF Time: 247.115932\n",
      "NRMSE TCTF: 0.075200\n"
     ]
    }
   ],
   "source": [
    "## TCTF\n",
    "rank = 7\n",
    "fun = lambda U,V: [0, tfrobnorm(U*V - X) / Xfrob]\n",
    "# fun = lambda U,V: [0,0]\n",
    "Xtctf,Ztctf, stats_tctf, tElapsed_tctf = tctf(Y,mask,rank,niter = 75,min_iter = 50,it_tol = 1e-4,fun=fun,verbose=True)\n",
    "Y_hat_tctf = Xtctf * Ztctf\n",
    "print('TCTF Time: {:4f}'.format(tElapsed_tctf))\n",
    "\n",
    "tctf_err = tfrobnorm(Y_hat_tctf - X) / Xfrob\n",
    "print('NRMSE TCTF: {:6f}'.format(tctf_err))"
   ]
  },
  {
   "cell_type": "code",
   "execution_count": 19,
   "metadata": {},
   "outputs": [],
   "source": [
    "# L_m = lr_flatten(L.array())\n",
    "# mask_m = lr_flatten(mask)\n",
    "\n",
    "# Y_m = L_m * mask_m\n",
    "\n",
    "# rank = 1\n",
    "# fun = lambda X,k: [0, np.linalg.norm(X - L_m[:,k]) / np.linalg.norm(L_m[:,k])]\n",
    "# Ym_hat_grouse, stats_grouse, tElapsed_grouse = grouse(Y_m, mask_m, rank,outer=1,mode=\"online\",fun=fun,randomOrder=False,\n",
    "#                                                       verbose=False)\n",
    "# grouse_nrmse = np.linalg.norm(Ym_hat_grouse - R_m,'fro') / np.linalg.norm(R_m,'fro')\n",
    "# print('GROUSE Time: {:4f}'.format(tElapsed_grouse))\n",
    "# print('GROUSE NRMSE: {:4f}'.format(grouse_nrmse))\n",
    "        \n",
    "# nrmse_grouse = stats_grouse[:,1]\n",
    "# times_grouse = stats_grouse[:,-1]\n",
    "# tElapsed_grouse = np.sum(times_grouse)\n",
    "# plt.semilogy(nrmse_grouse)\n",
    "# plt.title('GROUSE: Recovered Tensor NRMSE')\n",
    "# plt.xlabel('Iteration')\n",
    "# plt.show()"
   ]
  },
  {
   "cell_type": "markdown",
   "metadata": {},
   "source": [
    "### Compute error stats"
   ]
  },
  {
   "cell_type": "code",
   "execution_count": 20,
   "metadata": {},
   "outputs": [
    {
     "name": "stderr",
     "output_type": "stream",
     "text": [
      "/Users/kgilman/miniconda3/lib/python3.6/site-packages/matplotlib/figure.py:2366: UserWarning: This figure includes Axes that are not compatible with tight_layout, so results might be incorrect.\n",
      "  warnings.warn(\"This figure includes Axes that are not compatible \"\n"
     ]
    },
    {
     "data": {
      "image/png": "[encoded data removed]",
      "text/plain": [
       "<Figure size 936x360 with 1 Axes>"
      ]
     },
     "metadata": {
      "needs_background": "light"
     },
     "output_type": "display_data"
    },
    {
     "data": {
      "image/png": "[encoded data removed]",
      "text/plain": [
       "<Figure size 432x288 with 1 Axes>"
      ]
     },
     "metadata": {
      "needs_background": "light"
     },
     "output_type": "display_data"
    }
   ],
   "source": [
    "stc_frame_err = []\n",
    "olstec_frame_err = []\n",
    "toucan_frame_err = []\n",
    "tnn_frame_err = []\n",
    "tctf_frame_err = []\n",
    "tecpsgd_frame_err = []\n",
    "\n",
    "for i in range(0,n2):\n",
    "    stc_frame_err.append(np.linalg.norm(Lhat_stc[:,i,:].squeeze() - X.array()[:,i,:]) / np.linalg.norm(X.array()[:,i,:]))\n",
    "    olstec_frame_err.append(np.linalg.norm(Y_hat_olstec[:,i,:].squeeze() - X.array()[:,i,:]) / np.linalg.norm(X.array()[:,i,:]))\n",
    "    tecpsgd_frame_err.append(np.linalg.norm(Y_hat_tecpsgd[:,i,:].squeeze() - X.array()[:,i,:]) / np.linalg.norm(X.array()[:,i,:]))\n",
    "    toucan_frame_err.append(np.linalg.norm(Y_hat_toucan.array()[:,i,:].squeeze() - X.array()[:,i,:]) / np.linalg.norm(X.array()[:,i,:]))\n",
    "    tnn_frame_err.append(np.linalg.norm(Y_hat_tnn.array()[:,i,:] - X.array()[:,i,:]) / np.linalg.norm(X.array()[:,i,:]))\n",
    "    tctf_frame_err.append(np.linalg.norm(Y_hat_tctf.array()[:,i,:] - X.array()[:,i,:]) / np.linalg.norm(X.array()[:,i,:]))\n",
    "    \n",
    "\n",
    "plt.figure(figsize=(13,5),tight_layout=True)\n",
    "plt.semilogy(np.arange(0,len(stc_frame_err)), stc_frame_err,'#FF007F',label='STC')\n",
    "plt.semilogy(np.arange(0,len(olstec_frame_err)),olstec_frame_err,'#8B008B',label='OLSTEC')\n",
    "plt.semilogy(np.arange(0,len(tecpsgd_frame_err)),tecpsgd_frame_err,'#00FFFF',label='TeCPSGD')\n",
    "plt.semilogy(np.arange(0,len(toucan_frame_err)),toucan_frame_err,'#ff7f0e', label='TOUCAN')\n",
    "plt.semilogy(np.arange(0,len(tnn_frame_err)),tnn_frame_err,'r',label='TNN-ADMM')\n",
    "plt.semilogy(np.arange(0,len(tctf_frame_err)),tctf_frame_err,'k',label='TCTF')\n",
    "plt.legend(bbox_to_anchor=(1.5,1))\n",
    "plt.xlabel('Slice index')\n",
    "plt.ylabel('NRMSE')\n",
    "plt.grid()\n",
    "name = '/Users/kgilman/Desktop/t-SVD/gas_frame_NRMSE_tube_' + np.str(tube) + '_' + np.str(rho*100) + 'p.eps'\n",
    "plt.savefig(name)\n",
    "plt.show()\n",
    "\n",
    "plt.semilogy(np.cumsum(sub_infos_olstec['times'][1:]),sub_infos_olstec['err_residual'][1:],\n",
    "    np.cumsum(stats_toucan[:,-1]),stats_toucan[:,1]\n",
    ")\n",
    "\n",
    "plt.legend(('OLSTEC', 'TOUCAN'),bbox_to_anchor=(1.1, 1 ))\n",
    "plt.xlabel('Time (s)')\n",
    "plt.ylabel('NRMSE')\n",
    "plt.grid()\n",
    "plt.rcParams.update({'font.size': 22})\n",
    "# plt.savefig('gas_sensor_frame_nrmse_' + str(rho*100) + 'p.eps')\n",
    "plt.show()"
   ]
  },
  {
   "cell_type": "code",
   "execution_count": null,
   "metadata": {},
   "outputs": [],
   "source": [
    "###### Select experiments and sensors to plot results over #####\n",
    "\n",
    "# experiments = [0, 100, 150, 200, 250, 299]\n",
    "experiments = [100]\n",
    "# np.random.seed(0)\n",
    "# experiments = np.random.choice(299,5,replace=False)\n",
    "# sensors = np.arange(0,n3,5)\n",
    "# sensors = [30, 33, 34, 35, 37, 42, 44, 45]\n",
    "sensors = [34]"
   ]
  },
  {
   "cell_type": "code",
   "execution_count": null,
   "metadata": {},
   "outputs": [],
   "source": [
    "#### Plot tracking results ####\n",
    "start = 1000\n",
    "stop = start + 300\n",
    "\n",
    "test = 100\n",
    "sensor = 34\n",
    "\n",
    "idx = np.where(Y.array()[test,start:stop,sensor].squeeze() > 0)[0]\n",
    "idx = idx + start\n",
    "        \n",
    "fig, a = plt.subplots(2, 3,figsize=(20,10),sharex=True,sharey=True)\n",
    "\n",
    "for i in range(0,2):\n",
    "    for j in range(0,3):\n",
    "        a[i,j].plot(np.arange(start,stop),X.array()[test,start:stop,sensor],label='$%i$'%sensor)\n",
    "        a[i,j].scatter(idx,Y.array()[test,idx,sensor], s=20)\n",
    "\n",
    "a[0,0].plot(np.arange(start,stop),Y_hat_toucan.array()[test,start:stop,sensor],label='$%i$'%sensor)\n",
    "a[0,0].title.set_text('TOUCAN')\n",
    "\n",
    "a[0,1].plot(np.arange(start,stop),Y_hat_tecpsgd[test,start:stop,sensor],label='$%i$'%sensor)\n",
    "a[0,1].title.set_text('TeCPSGD')\n",
    "\n",
    "a[0,2].plot(np.arange(start,stop),Y_hat_olstec[test,start:stop,sensor],label='$%i$'%sensor)\n",
    "a[0,2].title.set_text('OLSTEC')\n",
    "\n",
    "a[1,0].plot(np.arange(start,stop),Lhat_stc[test,start:stop,sensor],label='$%i$'%sensor)\n",
    "a[1,0].title.set_text('STC')\n",
    "\n",
    "a[1,1].plot(np.arange(start,stop),Y_hat_tnn.array()[test,start:stop,sensor],label='$%i$'%sensor)\n",
    "a[1,1].title.set_text('TNN-ADMM')\n",
    "\n",
    "a[1,2].plot(np.arange(start,stop),Y_hat_tctf.array()[test,start:stop,sensor],label='$%i$'%sensor)\n",
    "a[1,2].title.set_text('TCTF')\n",
    "\n",
    "# Set common labels\n",
    "fig.text(0.5, 0.04, 'Sensor value', ha='center', va='center')\n",
    "fig.text(0.06, 0.5, 'Time sample', ha='center', va='center', rotation='vertical')\n",
    "\n",
    "name = '/Users/kgilman/Desktop/t-SVD/gas_sensor_traces_tube_' + np.str(tube) + '_' + np.str(rho*100) + 'p.eps'\n",
    "# plt.savefig(name)"
   ]
  },
  {
   "cell_type": "code",
   "execution_count": null,
   "metadata": {},
   "outputs": [],
   "source": []
  }
 ],
 "metadata": {
  "@webio": {
   "lastCommId": null,
   "lastKernelId": null
  },
  "kernelspec": {
   "display_name": "Python 3",
   "language": "python",
   "name": "python3"
  },
  "language_info": {
   "codemirror_mode": {
    "name": "ipython",
    "version": 3
   },
   "file_extension": ".py",
   "mimetype": "text/x-python",
   "name": "python",
   "nbconvert_exporter": "python",
   "pygments_lexer": "ipython3",
   "version": "3.6.6"
  }
 },
 "nbformat": 4,
 "nbformat_minor": 2
}
