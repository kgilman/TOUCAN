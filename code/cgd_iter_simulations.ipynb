{
 "cells": [
  {
   "cell_type": "code",
   "execution_count": 1,
   "metadata": {},
   "outputs": [],
   "source": [
    "import numpy as np\n",
    "import matplotlib.pyplot as plt\n",
    "import random\n",
    "from scipy.linalg import dft\n",
    "from tsvd import *\n",
    "from scipy.linalg import block_diag\n"
   ]
  },
  {
   "cell_type": "code",
   "execution_count": 2,
   "metadata": {},
   "outputs": [],
   "source": [
    "np.random.seed(0)\n",
    "random.seed(0)\n",
    "n1 = 50\n",
    "n3 = 20\n",
    "r = 5\n",
    "m = n1 * n3"
   ]
  },
  {
   "cell_type": "code",
   "execution_count": 3,
   "metadata": {},
   "outputs": [],
   "source": [
    "X = Tensor(np.random.randn(n1,r,n3))\n",
    "Ureal = tsvd(X,full=False)[0]\n",
    "Ubar = np.fft.fft(Ureal.array(), axis=2)\n",
    "\n",
    "# U = block_diag(Ubar[:,:,0],Ubar[:,:,1],Ubar[:,:,2],Ubar[:,:,3],Ubar[:,:,4])\n",
    "\n",
    "U = block_diag(Ubar[:,:,0],Ubar[:,:,1],Ubar[:,:,2],Ubar[:,:,3],Ubar[:,:,4],Ubar[:,:,5],Ubar[:,:,6],Ubar[:,:,7],\n",
    "               Ubar[:,:,8],Ubar[:,:,9],Ubar[:,:,10],Ubar[:,:,11],Ubar[:,:,12],Ubar[:,:,13],Ubar[:,:,14],Ubar[:,:,15],Ubar[:,:,16],Ubar[:,:,17],\n",
    "               Ubar[:,:,18],Ubar[:,:,19])"
   ]
  },
  {
   "cell_type": "code",
   "execution_count": 4,
   "metadata": {},
   "outputs": [],
   "source": [
    "F = 1 / np.sqrt(n3) * dft(n3)\n",
    "# U = F @ Ureal\n",
    "Finv = F.conj()\n",
    "Finv = np.kron(Finv,np.eye(n1))\n",
    "# D = np.diag((-1)**random.randrange(2) *np.random.rand(m) + (-1)**random.randrange(2)*1j* np.random.rand(m))\n",
    "D = np.eye(m)"
   ]
  },
  {
   "cell_type": "code",
   "execution_count": 5,
   "metadata": {},
   "outputs": [
    {
     "name": "stdout",
     "output_type": "stream",
     "text": [
      "FDU coherence: 0.120710\n",
      "Minimum coherence: 0.100000\n"
     ]
    }
   ],
   "source": [
    "FDU = (Finv @ D @ U)\n",
    "coherence = np.max(np.linalg.norm(FDU,axis=1)**2)\n",
    "min_coh = (n3*r) / (n1*n3)\n",
    "print('FDU coherence: {:5f}'.format(coherence))\n",
    "print('Minimum coherence: {:5f}'.format(min_coh))"
   ]
  },
  {
   "cell_type": "code",
   "execution_count": 6,
   "metadata": {},
   "outputs": [],
   "source": [
    "### Get taus and kappas with sampling % sweep\n",
    "\n",
    "larray = np.arange(int(0.1*m),0.95*m)\n",
    "kappas = []\n",
    "\n",
    "i = 0\n",
    "for l in larray:\n",
    "    kappa_log = []\n",
    "    for k in range(0,20):\n",
    "#         idx = np.random.choice(m,l)\n",
    "        rho = 1 - l / m\n",
    "        mask = np.random.rand(m)\n",
    "        mask[mask > rho] = 1\n",
    "        mask[mask <= rho] = 0\n",
    "        mask = mask.astype(int)\n",
    "        idx = np.where(mask > 0)[0]\n",
    "        SFDU = FDU[idx,:]\n",
    "        kappa_log.append(np.linalg.cond(SFDU)**2)\n",
    "    kappas.append(np.mean(kappa_log))\n",
    "#     tau = C * np.sqrt(m*max(r*n3,np.log(m))*np.log(l)/l)\n",
    "#     tau = C * np.sqrt(m*min_coh*np.log(l)/l)\n",
    "#     taus[i] = tau\n",
    "    i += 1"
   ]
  },
  {
   "cell_type": "code",
   "execution_count": 7,
   "metadata": {},
   "outputs": [],
   "source": [
    "taus = np.zeros(len(larray))\n",
    "# C = 0.035  #r = 2\n",
    "# C = 0.0015  #r = 9\n",
    "# C = 0.0001  #n1 = 100\n",
    "# C = 0.00037    #n1 = 50\n",
    "# C = 0.00037\n",
    "C = 0.0009 * np.sqrt(m)\n",
    "\n",
    "eps = 1e-7\n",
    "delta = 0.05\n",
    "\n",
    "i = 0\n",
    "for l in larray:\n",
    "    tau = C * np.sqrt(max(r*n3,np.log(m))*np.log(l)/l)\n",
    "#     tau = C * np.sqrt(m*coherence*np.log(l)/l)\n",
    "#     tau = C * np.sqrt(m*min_coh*np.log(l)/l)\n",
    "    taus[i] = tau\n",
    "    i += 1"
   ]
  },
  {
   "cell_type": "code",
   "execution_count": 8,
   "metadata": {},
   "outputs": [
    {
     "name": "stderr",
     "output_type": "stream",
     "text": [
      "/Users/kgilman/miniconda3/lib/python3.6/site-packages/ipykernel_launcher.py:3: RuntimeWarning: invalid value encountered in sqrt\n",
      "  This is separate from the ipykernel package so we can avoid doing imports until\n"
     ]
    }
   ],
   "source": [
    "### Get the theory upper bounds on CGD iter\n",
    "cgd_iters = np.ceil(0.5*np.sqrt(kappas)*np.log(2/eps))\n",
    "cgd_iters_ub = np.ceil(0.5*np.sqrt((1 + taus/delta)/(1 - taus/delta)) * np.log(2/eps))"
   ]
  },
  {
   "cell_type": "code",
   "execution_count": 9,
   "metadata": {},
   "outputs": [],
   "source": [
    "### IHS bound\n",
    "rho_ihs = np.zeros(len(larray))\n",
    "i = 0\n",
    "C0 = 0.32\n",
    "for l in larray:\n",
    "    rho_ihs[i] = 2*C0*np.sqrt(r*n3 / l * np.log(1/delta))\n",
    "    i += 1\n",
    "\n",
    "cgd_iters_ihs = 0.5 * (1 / (1 - rho_ihs)) * np.log(2 / eps)\n"
   ]
  },
  {
   "cell_type": "code",
   "execution_count": 10,
   "metadata": {},
   "outputs": [
    {
     "data": {
      "image/png": "[encoded data removed]",
      "text/plain": [
       "<Figure size 432x288 with 1 Axes>"
      ]
     },
     "metadata": {
      "needs_background": "light"
     },
     "output_type": "display_data"
    },
    {
     "data": {
      "image/png": "[encoded data removed]",
      "text/plain": [
       "<Figure size 432x288 with 1 Axes>"
      ]
     },
     "metadata": {
      "needs_background": "light"
     },
     "output_type": "display_data"
    }
   ],
   "source": [
    "plt.plot(larray/m,kappas)\n",
    "plt.xlabel('Sample %')\n",
    "plt.ylabel('Condition number')\n",
    "plt.show()\n",
    "\n",
    "plt.semilogy(larray/m, np.clip(cgd_iters,a_min=0,a_max=300),\n",
    "         larray/m,cgd_iters_ub,\n",
    "         larray/m, cgd_iters_ihs)\n",
    "plt.xlabel('Sample %')\n",
    "plt.ylabel('Max CGD iters')\n",
    "plt.legend(['Kappa UB','Sample UB','IHS Bound'])\n",
    "plt.show()"
   ]
  },
  {
   "cell_type": "code",
   "execution_count": 11,
   "metadata": {},
   "outputs": [
    {
     "name": "stdout",
     "output_type": "stream",
     "text": [
      "[0.1  0.15 0.2  0.25 0.3  0.35 0.4  0.45 0.5  0.55 0.6  0.65 0.7  0.75\n",
      " 0.8  0.85 0.9  0.95]\n",
      "Sampling 10.0% entries...\n",
      "Sampling 15.000000000000002% entries...\n",
      "Sampling 20.000000000000004% entries...\n",
      "Sampling 25.000000000000007% entries...\n",
      "Sampling 30.000000000000004% entries...\n",
      "Sampling 35.00000000000001% entries...\n",
      "Sampling 40.000000000000014% entries...\n",
      "Sampling 45.00000000000001% entries...\n",
      "Sampling 50.000000000000014% entries...\n",
      "Sampling 55.000000000000014% entries...\n",
      "Sampling 60.00000000000002% entries...\n",
      "Sampling 65.00000000000001% entries...\n",
      "Sampling 70.00000000000001% entries...\n",
      "Sampling 75.00000000000003% entries...\n",
      "Sampling 80.00000000000001% entries...\n",
      "Sampling 85.00000000000001% entries...\n",
      "Sampling 90.00000000000003% entries...\n",
      "Sampling 95.00000000000003% entries...\n"
     ]
    }
   ],
   "source": [
    "### Empirical with TOUCAN (with U estimation)\n",
    "np.random.seed(0)\n",
    "# P = tsvd(Tensor(np.random.randn(n1, n1, n3)))[0]\n",
    "# P = Tensor(np.random.randn(n1,n1,n3))\n",
    "Utrue = Ureal\n",
    "n2 = 200\n",
    "W = Tensor(np.random.randn(r, n2, n3))\n",
    "L = Utrue * W\n",
    "\n",
    "Lfrob = tfrobnorm(L)\n",
    "\n",
    "rho_array = np.arange(0.1,1,step=0.05)\n",
    "# rho_array = [0.1]\n",
    "print(rho_array)\n",
    "nrmse_log = []\n",
    "cgd_log = []\n",
    "tube = False\n",
    "\n",
    "U0 = tsvd(Tensor(np.random.randn(n1, r, n3)),full=False)[0]\n",
    "U0 = Tensor(U0.array()[:, :r, :])\n",
    "    \n",
    "for rho in rho_array:\n",
    "    print('Sampling ' + np.str(rho * 100) + '% entries...')\n",
    "\n",
    "    mask = np.random.rand(n1, n2, n3)\n",
    "    mask[mask > 1 - rho] = 1\n",
    "    mask[mask <= 1 - rho] = 0\n",
    "    mask = mask.astype(int)\n",
    "\n",
    "    Y = Tensor(L.array() * mask)\n",
    "\n",
    "    fun = lambda X,k: [0,tfrobnorm(X - L) / Lfrob]\n",
    "    Lhat, U, stats_toucan, tElapsed = toucan(Y,mask,r,tube=tube,outer=5,mode=\"online\",tol=eps,step=None,cgiter=None,cgtol=eps,fun=fun,\n",
    "           randomOrder=False,verbose=False, U0=U0)\n",
    "\n",
    "    nrmse = tfrobnorm(Lhat - L) / Lfrob\n",
    "    nrmse_log.append(nrmse)\n",
    "    cgd_log.append(np.mean(stats_toucan[:,2]))\n",
    "\n"
   ]
  },
  {
   "cell_type": "code",
   "execution_count": 12,
   "metadata": {},
   "outputs": [],
   "source": [
    "# ### Empirical with TOUCAN (with U estimation)\n",
    "# np.random.seed(0)\n",
    "# # P = tsvd(Tensor(np.random.randn(n1, n1, n3)))[0]\n",
    "# # P = Tensor(np.random.randn(n1,n1,n3))\n",
    "# Utrue = Ureal\n",
    "# n2 = 1\n",
    "# max_n2 = 1000\n",
    "# # W = Tensor(np.random.randn(r, n2, n3))\n",
    "# # L = Utrue * W\n",
    "\n",
    "# rho_array = np.arange(0.1,0.95,step=0.05)\n",
    "# # rho_array = [0.1]\n",
    "# print(rho_array)\n",
    "# nrmse_log = []\n",
    "# cgd_log = []\n",
    "# tube = False\n",
    "\n",
    "# UUT = Utrue * Utrue.T()\n",
    "# UUT_norm = tfrobnorm(Utrue * Utrue.T())\n",
    "# fun = lambda Uhat: tfrobnorm(Uhat * Uhat.T() - UUT) / UUT_norm\n",
    "# U0 = tsvd(Tensor(np.random.randn(n1, r, n3)),full=False)[0]\n",
    "# U0 = Tensor(U0.array()[:, :r, :])\n",
    "    \n",
    "# for rho in rho_array:\n",
    "#     print(rho)\n",
    "#     Uhat = Tensor(U0.array().copy())\n",
    "    \n",
    "#     cgd_inner_log = []\n",
    "#     itr = 0\n",
    "#     for inner in range(0,max_n2):\n",
    "\n",
    "#         mask = np.random.rand(n1, n2, n3)\n",
    "#         mask[mask > rho] = 1\n",
    "#         mask[mask <= rho] = 0\n",
    "#         mask = mask.astype(int)\n",
    "\n",
    "#         W = Tensor(np.random.randn(r,1,n3))\n",
    "#         L = Utrue * W\n",
    "#         Y = Tensor(L.array() * mask)\n",
    "        \n",
    "#         Uhat, w, cg_iters = toucan_stream(Y, mask[:,0,:], Uhat, step=None, cgiter = None, cgtol = eps)\n",
    "#         cgd_inner_log.append(cg_iters)\n",
    "#         itr += 1\n",
    "#         if(fun(Uhat) < eps):\n",
    "#             break\n",
    "            \n",
    "#     nrmse_log.append(itr)\n",
    "#     cgd_log.append(np.mean(cgd_inner_log))\n"
   ]
  },
  {
   "cell_type": "code",
   "execution_count": 13,
   "metadata": {},
   "outputs": [],
   "source": [
    "# ### Empirical with TOUCAN (with no U estimation)\n",
    "# np.random.seed(0)\n",
    "# # P = tsvd(Tensor(np.random.randn(n1, n1, n3)))[0]\n",
    "# # P = Tensor(np.random.randn(n1,n1,n3))\n",
    "# Utrue = Ureal\n",
    "# n2 = 200\n",
    "# W = Tensor(np.random.randn(r, n2, n3))\n",
    "# L = Utrue * W\n",
    "\n",
    "# # rho_array = np.arange(0.1,1 - (r*n3)/(n1*n3),step=0.05)\n",
    "# rho_array = np.arange(0.1,0.95,step=0.05)\n",
    "# nrmse_log_noU = []\n",
    "# cgd_log_noU = []\n",
    "# for rho in rho_array:\n",
    "\n",
    "#     tube = False\n",
    "#     # rho = 0.5  # percentage of missing entries\n",
    "#     # rho = 1 - r*n3 / (n1*n3)\n",
    "#     print(rho)\n",
    "\n",
    "#     if (tube is False):\n",
    "#         mask = np.random.rand(n1, n2, n3)\n",
    "#         mask[mask > rho] = 1\n",
    "#         mask[mask <= rho] = 0\n",
    "#         mask = mask.astype(int)\n",
    "#     else:\n",
    "#         mask = np.random.rand(n1, n2)\n",
    "#         mask[mask > rho] = 1\n",
    "#         mask[mask <= rho] = 0\n",
    "#         mask = mask.astype(int)\n",
    "#         mask = np.repeat(mask[:, :, np.newaxis], n3, axis=2)\n",
    "\n",
    "#     sig = 0\n",
    "#     L += Tensor(sig * np.random.randn(n1, n2, n3))\n",
    "#     Lfrob = tfrobnorm(L)\n",
    "\n",
    "#     Y = Tensor(L.array() * mask)\n",
    "\n",
    "#     fun = lambda X,k: [0, tfrobnorm_array(X - L.array()[:,k,:]) / tfrobnorm_array(L.array()[:,k,:])]\n",
    "#     Y_hat_toucan, U, stats_toucan, tElapsed_toucan = toucan(Y,mask,rank=r,tube=tube,outer=5,mode='online',cgiter = None,cgtol=eps,\n",
    "#                                                             fun=fun,\n",
    "#                                                          randomOrder=False,verbose=False,U0=Utrue)\n",
    "\n",
    "#     toucan_nrmse_noU = tfrobnorm(Y_hat_toucan - L) / Lfrob\n",
    "#     # print('TOUCAN Time: {:4f}'.format(tElapsed_toucan))\n",
    "#     # print('TOUCAN NRMSE: {:4f}'.format(toucan_nrmse))\n",
    "\n",
    "#     # nrmse_toucan = stats_toucan[:,1]\n",
    "#     cgiter_toucan_noU = stats_toucan[:,2]\n",
    "#     # times_toucan = stats_toucan[:,-1]\n",
    "\n",
    "#     # plt.semilogy(nrmse_toucan)\n",
    "#     # plt.title('TOUCAN: Recovered Tensor NRMSE')\n",
    "#     # plt.xlabel('Iteration')\n",
    "#     # plt.show()\n",
    "#     #\n",
    "#     # plt.scatter(np.arange(0,len(cgiter_toucan[1:])),cgiter_toucan[1:])\n",
    "#     # plt.show()\n",
    "\n",
    "#     nrmse_log_noU.append(toucan_nrmse_noU)\n",
    "#     cgd_log_noU.append(np.mean(cgiter_toucan_noU))"
   ]
  },
  {
   "cell_type": "code",
   "execution_count": 20,
   "metadata": {},
   "outputs": [
    {
     "name": "stdout",
     "output_type": "stream",
     "text": [
      "[0.1   0.101 0.102 0.103 0.104 0.105 0.106 0.107 0.108 0.109 0.11  0.111\n",
      " 0.112 0.113 0.114 0.115 0.116 0.117 0.118 0.119 0.12  0.121 0.122 0.123\n",
      " 0.124 0.125 0.126 0.127 0.128 0.129 0.13  0.131 0.132 0.133 0.134 0.135\n",
      " 0.136 0.137 0.138 0.139 0.14  0.141 0.142 0.143 0.144 0.145 0.146 0.147\n",
      " 0.148 0.149 0.15  0.151 0.152 0.153 0.154 0.155 0.156 0.157 0.158 0.159\n",
      " 0.16  0.161 0.162 0.163 0.164 0.165 0.166 0.167 0.168 0.169 0.17  0.171\n",
      " 0.172 0.173 0.174 0.175 0.176 0.177 0.178 0.179 0.18  0.181 0.182 0.183\n",
      " 0.184 0.185 0.186 0.187 0.188 0.189 0.19  0.191 0.192 0.193 0.194 0.195\n",
      " 0.196 0.197 0.198 0.199 0.2   0.201 0.202 0.203 0.204 0.205 0.206 0.207\n",
      " 0.208 0.209 0.21  0.211 0.212 0.213 0.214 0.215 0.216 0.217 0.218 0.219\n",
      " 0.22  0.221 0.222 0.223 0.224 0.225 0.226 0.227 0.228 0.229 0.23  0.231\n",
      " 0.232 0.233 0.234 0.235 0.236 0.237 0.238 0.239 0.24  0.241 0.242 0.243\n",
      " 0.244 0.245 0.246 0.247 0.248 0.249 0.25  0.251 0.252 0.253 0.254 0.255\n",
      " 0.256 0.257 0.258 0.259 0.26  0.261 0.262 0.263 0.264 0.265 0.266 0.267\n",
      " 0.268 0.269 0.27  0.271 0.272 0.273 0.274 0.275 0.276 0.277 0.278 0.279\n",
      " 0.28  0.281 0.282 0.283 0.284 0.285 0.286 0.287 0.288 0.289 0.29  0.291\n",
      " 0.292 0.293 0.294 0.295 0.296 0.297 0.298 0.299 0.3   0.301 0.302 0.303\n",
      " 0.304 0.305 0.306 0.307 0.308 0.309 0.31  0.311 0.312 0.313 0.314 0.315\n",
      " 0.316 0.317 0.318 0.319 0.32  0.321 0.322 0.323 0.324 0.325 0.326 0.327\n",
      " 0.328 0.329 0.33  0.331 0.332 0.333 0.334 0.335 0.336 0.337 0.338 0.339\n",
      " 0.34  0.341 0.342 0.343 0.344 0.345 0.346 0.347 0.348 0.349 0.35  0.351\n",
      " 0.352 0.353 0.354 0.355 0.356 0.357 0.358 0.359 0.36  0.361 0.362 0.363\n",
      " 0.364 0.365 0.366 0.367 0.368 0.369 0.37  0.371 0.372 0.373 0.374 0.375\n",
      " 0.376 0.377 0.378 0.379 0.38  0.381 0.382 0.383 0.384 0.385 0.386 0.387\n",
      " 0.388 0.389 0.39  0.391 0.392 0.393 0.394 0.395 0.396 0.397 0.398 0.399\n",
      " 0.4   0.401 0.402 0.403 0.404 0.405 0.406 0.407 0.408 0.409 0.41  0.411\n",
      " 0.412 0.413 0.414 0.415 0.416 0.417 0.418 0.419 0.42  0.421 0.422 0.423\n",
      " 0.424 0.425 0.426 0.427 0.428 0.429 0.43  0.431 0.432 0.433 0.434 0.435\n",
      " 0.436 0.437 0.438 0.439 0.44  0.441 0.442 0.443 0.444 0.445 0.446 0.447\n",
      " 0.448 0.449 0.45  0.451 0.452 0.453 0.454 0.455 0.456 0.457 0.458 0.459\n",
      " 0.46  0.461 0.462 0.463 0.464 0.465 0.466 0.467 0.468 0.469 0.47  0.471\n",
      " 0.472 0.473 0.474 0.475 0.476 0.477 0.478 0.479 0.48  0.481 0.482 0.483\n",
      " 0.484 0.485 0.486 0.487 0.488 0.489 0.49  0.491 0.492 0.493 0.494 0.495\n",
      " 0.496 0.497 0.498 0.499 0.5   0.501 0.502 0.503 0.504 0.505 0.506 0.507\n",
      " 0.508 0.509 0.51  0.511 0.512 0.513 0.514 0.515 0.516 0.517 0.518 0.519\n",
      " 0.52  0.521 0.522 0.523 0.524 0.525 0.526 0.527 0.528 0.529 0.53  0.531\n",
      " 0.532 0.533 0.534 0.535 0.536 0.537 0.538 0.539 0.54  0.541 0.542 0.543\n",
      " 0.544 0.545 0.546 0.547 0.548 0.549 0.55  0.551 0.552 0.553 0.554 0.555\n",
      " 0.556 0.557 0.558 0.559 0.56  0.561 0.562 0.563 0.564 0.565 0.566 0.567\n",
      " 0.568 0.569 0.57  0.571 0.572 0.573 0.574 0.575 0.576 0.577 0.578 0.579\n",
      " 0.58  0.581 0.582 0.583 0.584 0.585 0.586 0.587 0.588 0.589 0.59  0.591\n",
      " 0.592 0.593 0.594 0.595 0.596 0.597 0.598 0.599 0.6   0.601 0.602 0.603\n",
      " 0.604 0.605 0.606 0.607 0.608 0.609 0.61  0.611 0.612 0.613 0.614 0.615\n",
      " 0.616 0.617 0.618 0.619 0.62  0.621 0.622 0.623 0.624 0.625 0.626 0.627\n",
      " 0.628 0.629 0.63  0.631 0.632 0.633 0.634 0.635 0.636 0.637 0.638 0.639\n",
      " 0.64  0.641 0.642 0.643 0.644 0.645 0.646 0.647 0.648 0.649 0.65  0.651\n",
      " 0.652 0.653 0.654 0.655 0.656 0.657 0.658 0.659 0.66  0.661 0.662 0.663\n",
      " 0.664 0.665 0.666 0.667 0.668 0.669 0.67  0.671 0.672 0.673 0.674 0.675\n",
      " 0.676 0.677 0.678 0.679 0.68  0.681 0.682 0.683 0.684 0.685 0.686 0.687\n",
      " 0.688 0.689 0.69  0.691 0.692 0.693 0.694 0.695 0.696 0.697 0.698 0.699\n",
      " 0.7   0.701 0.702 0.703 0.704 0.705 0.706 0.707 0.708 0.709 0.71  0.711\n",
      " 0.712 0.713 0.714 0.715 0.716 0.717 0.718 0.719 0.72  0.721 0.722 0.723\n",
      " 0.724 0.725 0.726 0.727 0.728 0.729 0.73  0.731 0.732 0.733 0.734 0.735\n",
      " 0.736 0.737 0.738 0.739 0.74  0.741 0.742 0.743 0.744 0.745 0.746 0.747\n",
      " 0.748 0.749 0.75  0.751 0.752 0.753 0.754 0.755 0.756 0.757 0.758 0.759\n",
      " 0.76  0.761 0.762 0.763 0.764 0.765 0.766 0.767 0.768 0.769 0.77  0.771\n",
      " 0.772 0.773 0.774 0.775 0.776 0.777 0.778 0.779 0.78  0.781 0.782 0.783\n",
      " 0.784 0.785 0.786 0.787 0.788 0.789 0.79  0.791 0.792 0.793 0.794 0.795\n",
      " 0.796 0.797 0.798 0.799 0.8   0.801 0.802 0.803 0.804 0.805 0.806 0.807\n",
      " 0.808 0.809 0.81  0.811 0.812 0.813 0.814 0.815 0.816 0.817 0.818 0.819\n",
      " 0.82  0.821 0.822 0.823 0.824 0.825 0.826 0.827 0.828 0.829 0.83  0.831\n",
      " 0.832 0.833 0.834 0.835 0.836 0.837 0.838 0.839 0.84  0.841 0.842 0.843\n",
      " 0.844 0.845 0.846 0.847 0.848 0.849 0.85  0.851 0.852 0.853 0.854 0.855\n",
      " 0.856 0.857 0.858 0.859 0.86  0.861 0.862 0.863 0.864 0.865 0.866 0.867\n",
      " 0.868 0.869 0.87  0.871 0.872 0.873 0.874 0.875 0.876 0.877 0.878 0.879\n",
      " 0.88  0.881 0.882 0.883 0.884 0.885 0.886 0.887 0.888 0.889 0.89  0.891\n",
      " 0.892 0.893 0.894 0.895 0.896 0.897 0.898 0.899 0.9   0.901 0.902 0.903\n",
      " 0.904 0.905 0.906 0.907 0.908 0.909 0.91  0.911 0.912 0.913 0.914 0.915\n",
      " 0.916 0.917 0.918 0.919 0.92  0.921 0.922 0.923 0.924 0.925 0.926 0.927\n",
      " 0.928 0.929 0.93  0.931 0.932 0.933 0.934 0.935 0.936 0.937 0.938 0.939\n",
      " 0.94  0.941 0.942 0.943 0.944 0.945 0.946 0.947 0.948 0.949]\n",
      "[0.1  0.15 0.2  0.25 0.3  0.35 0.4  0.45 0.5  0.55 0.6  0.65 0.7  0.75\n",
      " 0.8  0.85 0.9  0.95]\n"
     ]
    }
   ],
   "source": [
    "den = n1*n2*n3*np.array(rho_array)\n",
    "num = n1*n3*r + r*n2*n3 - r**2 * n3\n",
    "# print(num)\n",
    "# print(den)\n",
    "# print(num/den)\n",
    "print(larray/m)\n",
    "print(rho_array)\n"
   ]
  },
  {
   "cell_type": "code",
   "execution_count": 21,
   "metadata": {},
   "outputs": [
    {
     "data": {
      "image/png": "[encoded data removed]",
      "text/plain": [
       "<Figure size 1080x360 with 2 Axes>"
      ]
     },
     "metadata": {
      "needs_background": "light"
     },
     "output_type": "display_data"
    }
   ],
   "source": [
    "plt.figure(figsize=(15,5),tight_layout=True)\n",
    "plt.subplot(1,2,1)\n",
    "plt.xlabel('dof / |\\Omega|')\n",
    "plt.ylabel('Number of CGD Iters')\n",
    "plt.semilogy(num/den,np.ceil(cgd_log),'^',label='TOUCAN')\n",
    "plt.semilogy(num/(larray*n2),(cgd_iters_ub),label='Theory UB')\n",
    "plt.semilogy(num/(larray*n2),(np.clip(cgd_iters,a_min=0,a_max=300)),label='Empirical UB')\n",
    "plt.legend()\n",
    "# plt.xticks(np.arange(0, 1, step=0.1))\n",
    "plt.xticks(np.arange(0,np.max(num/den),step=0.2))\n",
    "\n",
    "plt.subplot(1,2,2)\n",
    "plt.ylabel('NRMSE') \n",
    "plt.xlabel('dof / |\\Omega|')\n",
    "plt.semilogy(num/den,nrmse_log,'ro')\n",
    "plt.xticks(np.arange(0,np.max(num/den),step=0.2))\n",
    "\n",
    "# fig.tight_layout()  # otherwise the right y-label is slightly clipped\n",
    "name = 'cgd_iter_vs_sample' + str(r) + '-' + str(n1) + '-' + str(n3) + '.eps'\n",
    "plt.rcParams.update({'font.size': 18})\n",
    "plt.savefig(name)\n",
    "plt.show()"
   ]
  },
  {
   "cell_type": "code",
   "execution_count": 19,
   "metadata": {},
   "outputs": [
    {
     "data": {
      "image/png": "[encoded data removed]",
      "text/plain": [
       "<Figure size 576x360 with 1 Axes>"
      ]
     },
     "metadata": {
      "needs_background": "light"
     },
     "output_type": "display_data"
    }
   ],
   "source": [
    "den = n1*n2*n3*np.array(1 - rho_array)\n",
    "num = n1*n3*r + r*n2*n3 - r**2 * n3\n",
    "\n",
    "plt.figure(figsize=(8,5),tight_layout=True)\n",
    "plt.semilogy(num / (n1*n2*n3*(rho_array)),(np.ceil(cgd_log)),'^',label='TOUCAN')\n",
    "plt.semilogy(num / (n1*n2*n3*(larray/m)),((cgd_iters_ub)), label='Theory UB')\n",
    "plt.semilogy(num / (n1*n2*n3*(larray/m)),(np.clip(cgd_iters,a_min=0,a_max=300)),label='Empirical UB')\n",
    "plt.legend()\n",
    "plt.xlabel('Sampling %')\n",
    "plt.show()"
   ]
  },
  {
   "cell_type": "code",
   "execution_count": 17,
   "metadata": {},
   "outputs": [
    {
     "name": "stdout",
     "output_type": "stream",
     "text": [
      "[1.225      0.81666667 0.6125     0.49       0.40833333 0.35\n",
      " 0.30625    0.27222222 0.245      0.22272727 0.20416667 0.18846154\n",
      " 0.175      0.16333333 0.153125   0.14411765 0.13611111 0.12894737]\n",
      "[120.9020979020979, 58.246753246753244, 37.094905094905094, 29.35764235764236, 25.167832167832167, 19.83916083916084, 20.00782268578879, 18.28767123287671, 16.905723905723907, 15.706642066420665, 14.72055888223553, 13.701716738197424, 12.78132118451025, 11.932692307692308, 11.024752475247524, 10.11948051948052, 9.054794520547945, 7.936599423631124]\n"
     ]
    }
   ],
   "source": [
    "print(num / (n1*n2*n3*(rho_array)))\n",
    "print(cgd_log)"
   ]
  },
  {
   "cell_type": "code",
   "execution_count": null,
   "metadata": {},
   "outputs": [],
   "source": []
  }
 ],
 "metadata": {
  "@webio": {
   "lastCommId": null,
   "lastKernelId": null
  },
  "kernelspec": {
   "display_name": "Python 3",
   "language": "python",
   "name": "python3"
  },
  "language_info": {
   "codemirror_mode": {
    "name": "ipython",
    "version": 3
   },
   "file_extension": ".py",
   "mimetype": "text/x-python",
   "name": "python",
   "nbconvert_exporter": "python",
   "pygments_lexer": "ipython3",
   "version": "3.6.6"
  }
 },
 "nbformat": 4,
 "nbformat_minor": 2
}
