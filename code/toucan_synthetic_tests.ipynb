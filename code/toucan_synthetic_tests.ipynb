{
 "cells": [
  {
   "cell_type": "code",
   "execution_count": 1,
   "metadata": {},
   "outputs": [],
   "source": [
    "from tsvd import *\n",
    "import numpy as np\n",
    "import time\n",
    "import matplotlib.pyplot as plt\n",
    "\n",
    "from tecpsgd import *\n",
    "from olstec import *"
   ]
  },
  {
   "cell_type": "code",
   "execution_count": 2,
   "metadata": {},
   "outputs": [
    {
     "name": "stdout",
     "output_type": "stream",
     "text": [
      "0.5\n"
     ]
    },
    {
     "name": "stderr",
     "output_type": "stream",
     "text": [
      "/Users/kgilman/miniconda3/lib/python3.6/site-packages/matplotlib/figure.py:2366: UserWarning: This figure includes Axes that are not compatible with tight_layout, so results might be incorrect.\n",
      "  warnings.warn(\"This figure includes Axes that are not compatible \"\n"
     ]
    },
    {
     "data": {
      "image/png": "[encoded data removed]",
      "text/plain": [
       "<Figure size 936x360 with 1 Axes>"
      ]
     },
     "metadata": {
      "needs_background": "light"
     },
     "output_type": "display_data"
    },
    {
     "name": "stdout",
     "output_type": "stream",
     "text": [
      "Condition number: 1.193586\n"
     ]
    }
   ],
   "source": [
    "# r =  3\n",
    "# n1 = 50\n",
    "# n2 = 100\n",
    "# n3 = 50\n",
    "\n",
    "# r = 5\n",
    "# n1 = 100\n",
    "# n2 = 500\n",
    "# n3 = 100\n",
    "\n",
    "r = 3\n",
    "# r = 5\n",
    "n1 = 200\n",
    "n2 = 500\n",
    "# n3 = 25\n",
    "n3 = 20\n",
    "\n",
    "# r =  5\n",
    "# n1 = 200\n",
    "# n2 = 400\n",
    "# n3 = 200\n",
    "\n",
    "np.random.seed(0)\n",
    "# P = tsvd(Tensor(np.random.randn(n1,r,n3)),full=False)[0]\n",
    "P = Tensor(np.random.randn(n1,n1,n3))\n",
    "Utrue = Tensor(P.array()[:,:r,:])\n",
    "\n",
    "W = Tensor(np.random.randn(r, n2, n3))\n",
    "L = Utrue * W\n",
    "\n",
    "tube = False\n",
    "rho = 0.5\n",
    "# rho = 0.75  # percentage of missing entries\n",
    "# rho = 0.85\n",
    "# rho = 1 - r*n3 / (n1*n3)\n",
    "print(rho)\n",
    "\n",
    "if(tube is False):\n",
    "    mask = np.random.rand(n1, n2, n3)\n",
    "    mask[mask > rho] = 1\n",
    "    mask[mask <= rho] = 0\n",
    "    mask = mask.astype(int)\n",
    "else:\n",
    "    mask = np.random.rand(n1, n2)\n",
    "    mask[mask > rho] = 1\n",
    "    mask[mask <= rho] = 0\n",
    "    mask = mask.astype(int)\n",
    "    mask = np.repeat(mask[:, :, np.newaxis], n3, axis=2)\n",
    "    \n",
    "sig = 0\n",
    "\n",
    "L += Tensor(sig*np.random.randn(n1,n2,n3))\n",
    "\n",
    "Lfrob = tfrobnorm(L)\n",
    "\n",
    "tol = 1e-9\n",
    "\n",
    "Ut,St,Vt = tsvd(L,full=False)\n",
    "sing_vals = np.diag(St.array()[:,:,0])\n",
    "plt.figure(figsize=(13,5),tight_layout=True)\n",
    "plt.plot(np.arange(0,min(n1,n2)),sing_vals)\n",
    "plt.xticks(np.arange(0, min(n1,n2), step=5))\n",
    "plt.xlabel('Index')\n",
    "plt.title('Tensor tubal values')\n",
    "plt.show()\n",
    "\n",
    "condition_num = sing_vals[0] / sing_vals[r-1]\n",
    "\n",
    "print('Condition number: {:5f}'.format(condition_num))\n",
    "\n",
    "# print(np.diag(St.array()[:,:,0]))\n",
    "\n",
    "# for i in range(0,n3):\n",
    "#     U,S,V = np.linalg.svd(L.array()[:,:,i],full_matrices=False)\n",
    "#     plt.plot(S)\n",
    "# plt.title('Frontal Slice Singular Values')\n",
    "# plt.xlabel('Index')\n",
    "# plt.show()\n",
    "\n",
    "# for i in range(0,n1):\n",
    "#     U,S,V = np.linalg.svd(L.array()[i,:,:],full_matrices=False)\n",
    "#     plt.plot(S)\n",
    "# plt.title('Horizontal Slice Singular Values')\n",
    "# plt.xlabel('Index')\n",
    "# plt.show()\n",
    "\n",
    "# for i in range(0,n2):\n",
    "#     U,S,V = np.linalg.svd(L.array()[:,i,:],full_matrices=False)\n",
    "#     plt.plot(S)\n",
    "# plt.title('Lateral Slice Singular Values')\n",
    "# plt.xlabel('Index')\n",
    "# plt.show()\n",
    "\n",
    "\n"
   ]
  },
  {
   "cell_type": "code",
   "execution_count": 3,
   "metadata": {},
   "outputs": [],
   "source": [
    "# # r =  5\n",
    "# # n1 = 100\n",
    "# # n2 = 200\n",
    "# # n3 = 100\n",
    "# np.random.seed(0)\n",
    "\n",
    "# A=np.linalg.svd(np.random.randn(n1, r),full_matrices=False)[0]\n",
    "# B=np.linalg.svd(np.random.randn(n2, r),full_matrices=False)[0]\n",
    "# C=np.linalg.svd(np.random.randn(n3, r),full_matrices=False)[0]\n",
    "\n",
    "# # A=np.random.randn(n1, r) \n",
    "# # B=np.random.randn(n2, r)\n",
    "# # B = B / np.linalg.norm(B,axis=0)\n",
    "# # C=np.random.randn(n3, r)\n",
    "\n",
    "# #Create observed tensor that follows PARAFAC model\n",
    "# Tensor_Y_Noiseless = np.zeros((n1,n2,n3))\n",
    "# for k in range(0,n3):\n",
    "#     Tensor_Y_Noiseless[:,:,k]=A@np.diag(C[k,:])@B.T\n",
    "\n",
    "# # L = Tensor(np.transpose(Tensor_Y_Noiseless,[0,2,1]))\n",
    "# L = Tensor(Tensor_Y_Noiseless)\n",
    "# Lfrob = tfrobnorm(L)\n",
    "# print(L.shape())\n",
    "\n",
    "# tube = True\n",
    "# rho = 0.5  # percentage of missing entries\n",
    "\n",
    "# if(tube is False):\n",
    "#     mask = np.random.rand(n1, n2, n3)\n",
    "#     mask[mask > rho] = 1\n",
    "#     mask[mask <= rho] = 0\n",
    "#     mask = mask.astype(int)\n",
    "# else:\n",
    "#     mask = np.random.rand(n1, n2)\n",
    "#     mask[mask > rho] = 1\n",
    "#     mask[mask <= rho] = 0\n",
    "#     mask = mask.astype(int)\n",
    "#     mask = np.repeat(mask[:, :, np.newaxis], n3, axis=2)\n",
    "    \n",
    "# # mask = np.transpose(mask,[0,2,1])\n",
    "\n",
    "# # Y_m = np.reshape(Tensor_Y_Noiseless,(n1*n3,n2))\n",
    "# # U,S,V = np.linalg.svd(Y_m,full_matrices=False)\n",
    "# # plt.plot(S)\n",
    "# # plt.xticks(np.arange(0, min(n1,n1), step=10))\n",
    "# # plt.show()\n",
    "\n",
    "# U,S,V = tsvd(L,full=False)\n",
    "# sing_vals = np.diag(S.array()[:,:,0])\n",
    "# plt.figure(figsize=(13,5),tight_layout=True)\n",
    "# plt.plot(np.arange(0,min(n1,n2)),sing_vals)\n",
    "# plt.xticks(np.arange(0, min(n1,n2), step=5))\n",
    "# plt.title('Tubal singular values')\n",
    "# # plt.yticks(np.arange(0,np.max(S.array()),step=500))\n",
    "# plt.show()\n",
    "\n",
    "# condition_num = sing_vals[0] / sing_vals[r-1]\n",
    "# print('Condition number: {:5f}'.format(condition_num))"
   ]
  },
  {
   "cell_type": "code",
   "execution_count": 4,
   "metadata": {},
   "outputs": [],
   "source": [
    "Y = Tensor(L.array() * mask)\n",
    "# Tensor_Y_Noiseless = np.transpose(L.array() * mask,[0,2,1])\n",
    "# # Tensor_Y_Noiseless = L.array().copy()\n",
    "# rank = 100\n",
    "# OmegaTensor = np.transpose(mask,[0,2,1])\n",
    "# # OmegaTensor = mask.copy()\n",
    "\n",
    "# tensor_dims = [n1,n3,n2]\n",
    "# # tensor_dims = [n1,n2,n3]"
   ]
  },
  {
   "cell_type": "code",
   "execution_count": 5,
   "metadata": {},
   "outputs": [],
   "source": [
    "# rank = 5\n",
    "# Xinit = {\n",
    "#     'A': np.random.randn(tensor_dims[0], rank),\n",
    "#     'B': np.random.randn(tensor_dims[1], rank),\n",
    "#     'C': np.random.randn(tensor_dims[2], rank)\n",
    "# }"
   ]
  },
  {
   "cell_type": "code",
   "execution_count": 6,
   "metadata": {},
   "outputs": [],
   "source": [
    "# ## TeCPSGD\n",
    "\n",
    "# maxepochs = 5\n",
    "# tolcost = 1e-14\n",
    "# permute_on = False\n",
    "\n",
    "# options = {\n",
    "#     'maxepochs': maxepochs,\n",
    "#     'tolcost': tolcost,\n",
    "#     'lam': 0.001,\n",
    "#     'stepsize': 1,\n",
    "#     'permute_on':  permute_on,\n",
    "#     'store_subinfo': True,\n",
    "#     'store_matrix': False,\n",
    "#     'verbose': True\n",
    "# }\n",
    "\n",
    "\n",
    "# Xsol_TeCPSGD, Y_hat_tecpsgd, info_TeCPSGD, sub_infos_TeCPSGD = TeCPSGD(Tensor_Y_Noiseless, OmegaTensor, None, tensor_dims, rank,\n",
    "#                                                           Xinit, options)\n",
    "\n",
    "# A_t0 = Xsol_TeCPSGD['A']\n",
    "# B_t0 = Xsol_TeCPSGD['B']\n",
    "# C_t0 = Xsol_TeCPSGD['C']\n",
    "\n",
    "# nrmse_tecpsgd = frobnorm(Y_hat_tecpsgd - Tensor_Y_Noiseless) / frobnorm(Tensor_Y_Noiseless)\n",
    "# print(nrmse_tecpsgd)"
   ]
  },
  {
   "cell_type": "code",
   "execution_count": 7,
   "metadata": {},
   "outputs": [],
   "source": [
    "# ## OLSTEC\n",
    "\n",
    "# # Tensor_Y_Noiseless = np.transpose(L.array(),[0,2,1])\n",
    "# Tensor_Y_Noiseless = L.array()\n",
    "# rank = 20\n",
    "# # OmegaTensor = np.transpose(mask,[0,2,1])\n",
    "# OmegaTensor = mask\n",
    "# # tensor_dims = [n1,n3,n2]\n",
    "# tensor_dims = [n1,n2,n3]\n",
    "# maxepochs = 1\n",
    "# tolcost = 1e-14\n",
    "# permute_on = False\n",
    "\n",
    "# options = {\n",
    "#     'maxepochs': maxepochs,\n",
    "#     'tolcost': tolcost,\n",
    "#     'lam': 1,\n",
    "#     'mu': 0.01,\n",
    "#     'permute_on':  permute_on,\n",
    "#     'store_subinfo': True,\n",
    "#     'store_matrix': False,\n",
    "#     'verbose': True,\n",
    "#     'tw_flag': None,\n",
    "#     'tw_len': None\n",
    "# }\n",
    "\n",
    "# np.random.seed(0)\n",
    "# Xinit = {\n",
    "#     'A': np.random.randn(tensor_dims[0], rank),\n",
    "#     'B': np.random.randn(tensor_dims[1], rank),\n",
    "#     'C': np.random.randn(tensor_dims[2], rank)\n",
    "# }\n",
    "\n",
    "# print(Tensor_Y_Noiseless.shape)\n",
    "# Xsol_olstec, Y_hat_olstec, info_olstec, sub_infos_olstec = OLSTEC(Tensor_Y_Noiseless, OmegaTensor, None, tensor_dims, rank,\n",
    "#                                                           Xinit, options)\n",
    "\n",
    "# A_t0 = Xsol_olstec['A']\n",
    "# B_t0 = Xsol_olstec['B']\n",
    "# C_t0 = Xsol_olstec['C']"
   ]
  },
  {
   "cell_type": "code",
   "execution_count": 8,
   "metadata": {},
   "outputs": [
    {
     "name": "stdout",
     "output_type": "stream",
     "text": [
      "Time elapsed: Tensor: 26.378 \n",
      "Final NRMSE: Tensor: 0.00000000 \n"
     ]
    },
    {
     "name": "stderr",
     "output_type": "stream",
     "text": [
      "/Users/kgilman/miniconda3/lib/python3.6/site-packages/matplotlib/ticker.py:2241: UserWarning: Data has no positive values, and therefore cannot be log-scaled.\n",
      "  \"Data has no positive values, and therefore cannot be \"\n"
     ]
    },
    {
     "data": {
      "image/png": "[encoded data removed]",
      "text/plain": [
       "<Figure size 432x288 with 2 Axes>"
      ]
     },
     "metadata": {
      "needs_background": "light"
     },
     "output_type": "display_data"
    }
   ],
   "source": [
    "## TNN-ADMM\n",
    "\n",
    "fun = lambda X: [0, tfrobnorm(X - L) / Lfrob]\n",
    "\n",
    "niter = 200\n",
    "\n",
    "Xhat, stats, tElapsed_tensor = lrtc(Y, mask, niter=niter,tol=tol, it_tol=tol,fun=fun)\n",
    "\n",
    "cost_tensor = stats[:,0]\n",
    "nrmse_tensor = stats[:,1]\n",
    "times_tensor = stats[:,2]\n",
    "\n",
    "print('Time elapsed: Tensor: {:.3f} '.format(tElapsed_tensor))\n",
    "print('Final NRMSE: Tensor: {:.8f} '.format(nrmse_tensor[-1]))\n",
    "\n",
    "plt.subplot(1,2,1)\n",
    "plt.semilogy(cost_tensor)\n",
    "plt.xlabel('Iteration')\n",
    "plt.title('Cost function')\n",
    "plt.subplot(1,2,2)\n",
    "plt.semilogy(nrmse_tensor)\n",
    "plt.xlabel('Iteration')\n",
    "plt.title('NRMSE')\n",
    "plt.show()"
   ]
  },
  {
   "cell_type": "code",
   "execution_count": 9,
   "metadata": {},
   "outputs": [
    {
     "name": "stdout",
     "output_type": "stream",
     "text": [
      "Iter[1]: NRMSE: 0.265995 \n",
      "Iter[11]: NRMSE: 0.001264 \n",
      "Iter[21]: NRMSE: 0.000011 \n",
      "Iter[31]: NRMSE: 0.000000 \n",
      "TCTF Time: 8.137397\n",
      "TCTF NRMSE: 0.000000\n"
     ]
    },
    {
     "data": {
      "image/png": "[encoded data removed]",
      "text/plain": [
       "<Figure size 432x288 with 1 Axes>"
      ]
     },
     "metadata": {
      "needs_background": "light"
     },
     "output_type": "display_data"
    }
   ],
   "source": [
    "## TCTF\n",
    "\n",
    "fun = lambda U,V: [0, tfrobnorm(U*V - L) / Lfrob]\n",
    "Xtctf,Ztctf, stats_tctf, tElapsed_tctf = tctf(Y,mask,rank=r,niter = 250,tol=tol,it_tol=tol,fun=fun,verbose=True)\n",
    "Y_hat_tctf = Xtctf * Ztctf\n",
    "\n",
    "nrmse_tctf = stats_tctf[:,1]\n",
    "times_tctf = stats_tctf[:,-1]\n",
    "print('TCTF Time: {:4f}'.format(tElapsed_tctf))\n",
    "print('TCTF NRMSE: {:8f}'.format(nrmse_tctf[-1]))\n",
    "\n",
    "plt.semilogy(nrmse_tctf)\n",
    "plt.xlabel('Iteration')\n",
    "plt.title('NRMSE')\n",
    "plt.show()\n"
   ]
  },
  {
   "cell_type": "code",
   "execution_count": 10,
   "metadata": {},
   "outputs": [
    {
     "name": "stdout",
     "output_type": "stream",
     "text": [
      "0.16367483139038086\n"
     ]
    },
    {
     "data": {
      "image/png": "[encoded data removed]",
      "text/plain": [
       "<Figure size 936x360 with 1 Axes>"
      ]
     },
     "metadata": {
      "needs_background": "light"
     },
     "output_type": "display_data"
    }
   ],
   "source": [
    "# ## Matrix Completion\n",
    "\n",
    "L_m = lr_flatten(L.array())\n",
    "mask_m = lr_flatten(mask)\n",
    "\n",
    "Y_m = L_m * mask_m\n",
    "\n",
    "start = time.time()\n",
    "U,S,V = np.linalg.svd(L_m,full_matrices=False)\n",
    "end = time.time()\n",
    "\n",
    "print(end - start)\n",
    "plt.figure(figsize=(13,5),tight_layout=True)\n",
    "\n",
    "plt.plot(np.arange(0,min(n1*n3,n2)),S)\n",
    "plt.xticks(np.arange(0, min(n1*n3,n2), step=25))\n",
    "plt.title('Singular values of matricized tensor')\n",
    "plt.xlabel('Index')\n",
    "plt.show()"
   ]
  },
  {
   "cell_type": "code",
   "execution_count": 11,
   "metadata": {},
   "outputs": [
    {
     "name": "stdout",
     "output_type": "stream",
     "text": [
      "Time elapsed: Mat Comp: 26.743 \n",
      "Final NRMSE: Mat Comp: 0.00000001 \n"
     ]
    }
   ],
   "source": [
    "# ## Matrix Completion\n",
    "\n",
    "cost_fun = lambda X: [0, np.linalg.norm(X - L_m, 'fro') / np.linalg.norm(L_m, 'fro')]\n",
    "\n",
    "niter_mc = 500\n",
    "Xhat_m, stats, tElapsed_matrix = lrmc(Y_m,mask_m,niter=niter_mc,fun=cost_fun)\n",
    "\n",
    "cost_matrix = stats[:,0]\n",
    "nrmse_matrix = stats[:,1]\n",
    "times_matrix = stats[:,2]\n",
    "\n",
    "print('Time elapsed: Mat Comp: {:.3f} '.format(tElapsed_matrix))\n",
    "print('Final NRMSE: Mat Comp: {:.8f} '.format(nrmse_matrix[-1]))\n"
   ]
  },
  {
   "cell_type": "code",
   "execution_count": 12,
   "metadata": {},
   "outputs": [
    {
     "name": "stdout",
     "output_type": "stream",
     "text": [
      "GROUSE Time: 14.587636\n",
      "GROUSE NRMSE: 0.002394\n"
     ]
    },
    {
     "data": {
      "image/png": "[encoded data removed]",
      "text/plain": [
       "<Figure size 432x288 with 1 Axes>"
      ]
     },
     "metadata": {
      "needs_background": "light"
     },
     "output_type": "display_data"
    }
   ],
   "source": [
    "# ## GROUSE\n",
    "\n",
    "rank = r*n3\n",
    "# rank = r\n",
    "fun = lambda X: [0, np.linalg.norm(X - L_m, 'fro') / np.linalg.norm(L_m, 'fro')]\n",
    "Ym_hat_grouse, stats_grouse, tElapsed_grouse = grouse(Y_m, mask_m, rank,outer=5,mode=\"batch\",fun=fun,randomOrder=False,\n",
    "                                                      verbose=False)\n",
    "grouse_nrmse = np.linalg.norm(Ym_hat_grouse - L_m,'fro') / np.linalg.norm(L_m,'fro')\n",
    "print('GROUSE Time: {:4f}'.format(tElapsed_grouse))\n",
    "print('GROUSE NRMSE: {:4f}'.format(grouse_nrmse))\n",
    "        \n",
    "nrmse_grouse = stats_grouse[:,1]\n",
    "times_grouse = stats_grouse[:,-1]\n",
    "tElapsed_grouse = np.sum(times_grouse)\n",
    "plt.semilogy(nrmse_grouse)\n",
    "plt.title('GROUSE: Recovered Tensor NRMSE')\n",
    "plt.xlabel('Iteration')\n",
    "plt.show()"
   ]
  },
  {
   "cell_type": "code",
   "execution_count": 13,
   "metadata": {},
   "outputs": [
    {
     "name": "stdout",
     "output_type": "stream",
     "text": [
      "TOUCAN Time: 5.823210\n",
      "TOUCAN NRMSE: 0.000000\n"
     ]
    }
   ],
   "source": [
    "## TOUCAN\n",
    "# Y = Tensor(L.array() * mask)\n",
    "\n",
    "fun = lambda X,k: [0, tfrobnorm(X - L) / Lfrob]\n",
    "# fun = lambda X,k: [0, tfrobnorm_array(X.array()[:,k,:] - L.array()[:,k,:]) / tfrobnorm_array(L.array()[:,k,:])]\n",
    "Y_hat_toucan, U, stats_toucan, tElapsed_toucan = toucan(Y,mask,rank=r,tube=tube,outer=7,mode=\"batch\",tol=tol,cgiter = None,cgtol=tol,fun=fun,\n",
    "                                                     randomOrder=False,verbose=False)\n",
    "\n",
    "toucan_nrmse = tfrobnorm(Y_hat_toucan - L) / Lfrob\n",
    "print('TOUCAN Time: {:4f}'.format(tElapsed_toucan))\n",
    "print('TOUCAN NRMSE: {:8f}'.format(toucan_nrmse))\n",
    "\n",
    "nrmse_toucan = stats_toucan[:,1]\n",
    "cgiter_toucan = stats_toucan[:,2]\n",
    "times_toucan = stats_toucan[:,-1]"
   ]
  },
  {
   "cell_type": "code",
   "execution_count": 14,
   "metadata": {},
   "outputs": [
    {
     "data": {
      "image/png": "[encoded data removed]",
      "text/plain": [
       "<Figure size 432x288 with 1 Axes>"
      ]
     },
     "metadata": {
      "needs_background": "light"
     },
     "output_type": "display_data"
    },
    {
     "data": {
      "image/png": "[encoded data removed]",
      "text/plain": [
       "<Figure size 432x288 with 1 Axes>"
      ]
     },
     "metadata": {
      "needs_background": "light"
     },
     "output_type": "display_data"
    }
   ],
   "source": [
    "plt.semilogy(nrmse_toucan)\n",
    "plt.title('TOUCAN: Recovered Tensor NRMSE')\n",
    "plt.xlabel('Iteration')\n",
    "plt.show()\n",
    "\n",
    "plt.scatter(np.arange(0,len(cgiter_toucan[1:])),cgiter_toucan[1:])\n",
    "plt.show()"
   ]
  },
  {
   "cell_type": "code",
   "execution_count": 15,
   "metadata": {},
   "outputs": [
    {
     "data": {
      "image/png": "[encoded data removed]",
      "text/plain": [
       "<Figure size 936x360 with 1 Axes>"
      ]
     },
     "metadata": {
      "needs_background": "light"
     },
     "output_type": "display_data"
    }
   ],
   "source": [
    "plt.figure(figsize=(13,5),tight_layout=True)\n",
    "plt.semilogy(np.cumsum(times_toucan), nrmse_toucan, '#ff7f0e', label='TOUCAN')\n",
    "#              np.cumsum(times_grouse)[:int(0.5*len(times_grouse))], nrmse_grouse[:int(0.5*len(times_grouse))], 'b',\n",
    "#              np.cumsum(times_grouse), nrmse_grouse, 'b',\n",
    "#             np.cumsum(times_matrix), nrmse_matrix, 'g',label='MatComp',\n",
    "plt.semilogy(np.cumsum(times_tensor), nrmse_tensor, 'r', label='TNN-ADMM')\n",
    "plt.semilogy(np.cumsum(times_tctf), nrmse_tctf, 'k',label='TCTF')\n",
    "\n",
    "# max_time = max(max(np.cumsum(times_matrix)),max(np.cumsum(times_tctf)),max(np.cumsum(times_grouse)),max(np.cumsum(times_tensor)),max(np.cumsum(times_toucan)))\n",
    "max_time = max(max(np.cumsum(times_tctf)),max(np.cumsum(times_tensor)),max(np.cumsum(times_toucan)))\n",
    "plt.xlabel('Time (s)')\n",
    "plt.xticks(np.arange(0, max_time, step=20))\n",
    "plt.legend(bbox_to_anchor=(1.5,0.5),loc='center right')\n",
    "plt.rcParams.update({'font.size': 22})\n",
    "\n",
    "if(tube is False):\n",
    "    name = 'nrmse_times_rand_sample_' + str(r) + '-' + str(n1) + '-' + str(n2) + '-' + str(n3) + '-' + str(int(rho*100)) + '%.eps'\n",
    "else:\n",
    "    name = 'nrmse_times_tube_sample_' + str(r) + '-' + str(n1) + '-' + str(n2) + '-' + str(n3) + '-' + str(int(rho*100)) + '%.eps'\n",
    "# plt.savefig(name)\n",
    "plt.show()"
   ]
  },
  {
   "cell_type": "code",
   "execution_count": 16,
   "metadata": {},
   "outputs": [],
   "source": [
    "# plt.semilogy(np.arange(0,len(nrmse_toucan)),nrmse_toucan, '#ff7f0e',\n",
    "#              np.arange(0,len(nrmse_grouse)), nrmse_grouse, 'b',\n",
    "#              np.arange(0,len(nrmse_tensor)), nrmse_tensor, 'r',\n",
    "#              np.arange(0,len(nrmse_matrix)), nrmse_matrix, 'g')\n",
    "# plt.xlabel('Iteration')\n",
    "# plt.title('NRMSE')\n",
    "# plt.legend(('TOUCAN','GROUSE','TNN','MatComp'))\n",
    "# # plt.legend(('TOUCAN','TC'))\n",
    "# plt.show()"
   ]
  },
  {
   "cell_type": "code",
   "execution_count": 17,
   "metadata": {},
   "outputs": [],
   "source": [
    "tube = True\n",
    "# rho = rho  # percentage of missing entries\n",
    "# rho = 1 - r*n3 / (n1*n3)\n",
    "\n",
    "if(tube is False):\n",
    "    mask = np.random.rand(n1, n2, n3)\n",
    "    mask[mask > rho] = 1\n",
    "    mask[mask <= rho] = 0\n",
    "    mask = mask.astype(int)\n",
    "else:\n",
    "    mask = np.random.rand(n1, n2)\n",
    "    mask[mask > rho] = 1\n",
    "    mask[mask <= rho] = 0\n",
    "    mask = mask.astype(int)\n",
    "    mask = np.repeat(mask[:, :, np.newaxis], n3, axis=2)\n",
    "    \n",
    "Y = Tensor(L.array() * mask)"
   ]
  },
  {
   "cell_type": "code",
   "execution_count": 21,
   "metadata": {},
   "outputs": [
    {
     "name": "stdout",
     "output_type": "stream",
     "text": [
      "Time elapsed: Tensor: 26.468 \n",
      "Final NRMSE: Tensor: 0.00000000 \n"
     ]
    },
    {
     "data": {
      "image/png": "[encoded data removed]",
      "text/plain": [
       "<Figure size 432x288 with 2 Axes>"
      ]
     },
     "metadata": {
      "needs_background": "light"
     },
     "output_type": "display_data"
    }
   ],
   "source": [
    "## TNN-ADMM\n",
    "\n",
    "fun = lambda X: [0, tfrobnorm(X - L) / Lfrob]\n",
    "\n",
    "niter = 200\n",
    "\n",
    "Xhat, stats, tElapsed_tensor = lrtc(Y, mask, niter=niter,tol=tol,it_tol=tol, fun=fun)\n",
    "\n",
    "cost_tensor_tube = stats[:,0]\n",
    "nrmse_tensor_tube = stats[:,1]\n",
    "times_tensor_tube = stats[:,2]\n",
    "\n",
    "print('Time elapsed: Tensor: {:.3f} '.format(tElapsed_tensor))\n",
    "print('Final NRMSE: Tensor: {:.8f} '.format(nrmse_tensor_tube[-1]))\n",
    "\n",
    "plt.subplot(1,2,1)\n",
    "plt.semilogy(cost_tensor_tube)\n",
    "plt.xlabel('Iteration')\n",
    "plt.title('Cost function')\n",
    "plt.subplot(1,2,2)\n",
    "plt.semilogy(nrmse_tensor_tube)\n",
    "plt.xlabel('Iteration')\n",
    "plt.title('NRMSE')\n",
    "plt.show()"
   ]
  },
  {
   "cell_type": "code",
   "execution_count": 22,
   "metadata": {},
   "outputs": [
    {
     "name": "stdout",
     "output_type": "stream",
     "text": [
      "Iter[1]: NRMSE: 0.267446 \n",
      "Iter[11]: NRMSE: 0.001890 \n",
      "Iter[21]: NRMSE: 0.000033 \n",
      "Iter[31]: NRMSE: 0.000001 \n",
      "Iter[41]: NRMSE: 0.000000 \n",
      "TCTF Time: 9.550259\n",
      "TCTF NRMSE: 0.000000\n"
     ]
    },
    {
     "data": {
      "image/png": "[encoded data removed]",
      "text/plain": [
       "<Figure size 432x288 with 1 Axes>"
      ]
     },
     "metadata": {
      "needs_background": "light"
     },
     "output_type": "display_data"
    }
   ],
   "source": [
    "## TCTF\n",
    "\n",
    "fun = lambda U,V: [0, tfrobnorm(U*V - L) / Lfrob]\n",
    "Xtctf,Ztctf, stats_tctf, tElapsed_tctf = tctf(Y,mask,rank=r,niter = 150,tol=tol,it_tol=tol,fun=fun,verbose=True)\n",
    "Y_hat_tctf = Xtctf * Ztctf\n",
    "\n",
    "nrmse_tctf_tube = stats_tctf[:,1]\n",
    "times_tctf_tube = stats_tctf[:,-1]\n",
    "print('TCTF Time: {:4f}'.format(tElapsed_tctf))\n",
    "print('TCTF NRMSE: {:8f}'.format(nrmse_tctf_tube[-1]))\n",
    "\n",
    "plt.semilogy(nrmse_tctf_tube)\n",
    "plt.xlabel('Iteration')\n",
    "plt.title('NRMSE')\n",
    "plt.show()\n",
    "\n"
   ]
  },
  {
   "cell_type": "code",
   "execution_count": 23,
   "metadata": {},
   "outputs": [
    {
     "name": "stdout",
     "output_type": "stream",
     "text": [
      "Time elapsed: Mat Comp: 27.314 \n",
      "Final NRMSE: Mat Comp: 0.00000001 \n"
     ]
    }
   ],
   "source": [
    "## Matrix Completion\n",
    "\n",
    "cost_fun = lambda X: [0, np.linalg.norm(X - L_m, 'fro') / np.linalg.norm(L_m, 'fro')]\n",
    "\n",
    "niter_mc = 500\n",
    "Xhat_m, stats, tElapsed_matrix = lrmc(Y_m,mask_m,niter=niter_mc,fun=cost_fun)\n",
    "\n",
    "cost_matrix = stats[:,0]\n",
    "nrmse_matrix_tube = stats[:,1]\n",
    "times_matrix_tube = stats[:,2]\n",
    "\n",
    "print('Time elapsed: Mat Comp: {:.3f} '.format(tElapsed_matrix))\n",
    "print('Final NRMSE: Mat Comp: {:.8f} '.format(nrmse_matrix_tube[-1]))\n",
    "\n"
   ]
  },
  {
   "cell_type": "code",
   "execution_count": 24,
   "metadata": {},
   "outputs": [
    {
     "name": "stdout",
     "output_type": "stream",
     "text": [
      "GROUSE Time: 29.167361\n",
      "GROUSE NRMSE: 0.000004\n"
     ]
    },
    {
     "data": {
      "image/png": "[encoded data removed]",
      "text/plain": [
       "<Figure size 432x288 with 1 Axes>"
      ]
     },
     "metadata": {
      "needs_background": "light"
     },
     "output_type": "display_data"
    }
   ],
   "source": [
    "## GROUSE\n",
    "\n",
    "rank = r*n3\n",
    "# rank = r\n",
    "fun = lambda X: [0, np.linalg.norm(X - L_m, 'fro') / np.linalg.norm(L_m, 'fro')]\n",
    "Ym_hat_grouse, stats_grouse, tElapsed_grouse = grouse(Y_m, mask_m, rank,outer=10,mode=\"batch\",fun=fun,randomOrder=False,\n",
    "                                                      verbose=False)\n",
    "grouse_nrmse = np.linalg.norm(Ym_hat_grouse - L_m,'fro') / np.linalg.norm(L_m,'fro')\n",
    "print('GROUSE Time: {:4f}'.format(tElapsed_grouse))\n",
    "print('GROUSE NRMSE: {:4f}'.format(grouse_nrmse))\n",
    "        \n",
    "nrmse_grouse_tube = stats_grouse[:,1]\n",
    "times_grouse_tube = stats_grouse[:,-1]\n",
    "tElapsed_grouse = np.sum(times_grouse)\n",
    "plt.semilogy(nrmse_grouse_tube)\n",
    "plt.title('GROUSE: Recovered Tensor NRMSE')\n",
    "plt.xlabel('Iteration')\n",
    "plt.show()"
   ]
  },
  {
   "cell_type": "code",
   "execution_count": 25,
   "metadata": {},
   "outputs": [
    {
     "name": "stdout",
     "output_type": "stream",
     "text": [
      "TOUCAN Time: 2.157052\n",
      "TOUCAN NRMSE: 0.000000\n"
     ]
    }
   ],
   "source": [
    "## TOUCAN\n",
    "# Y = Tensor(L.array() * mask)\n",
    "\n",
    "fun = lambda X,k: [0, tfrobnorm(X - L) / Lfrob]\n",
    "# fun = lambda X,k: [0, tfrobnorm_array(X - L.array()[:,k,:]) / tfrobnorm_array(L.array()[:,k,:])]\n",
    "Y_hat_toucan, U, stats_toucan, tElapsed_toucan = toucan(Y,mask,rank=r,tube=tube,outer=5,mode=\"batch\",tol=tol,cgiter = None,cgtol=tol,fun=fun,\n",
    "                                                     randomOrder=False,verbose=False)\n",
    "\n",
    "toucan_nrmse = tfrobnorm(Y_hat_toucan - L) / Lfrob\n",
    "print('TOUCAN Time: {:4f}'.format(tElapsed_toucan))\n",
    "print('TOUCAN NRMSE: {:8f}'.format(toucan_nrmse))\n",
    "\n",
    "nrmse_toucan_tube = stats_toucan[:,1]\n",
    "cgiter_toucan = stats_toucan[:,2]\n",
    "times_toucan_tube = stats_toucan[:,-1]"
   ]
  },
  {
   "cell_type": "code",
   "execution_count": 26,
   "metadata": {},
   "outputs": [
    {
     "data": {
      "image/png": "[encoded data removed]",
      "text/plain": [
       "<Figure size 936x288 with 1 Axes>"
      ]
     },
     "metadata": {
      "needs_background": "light"
     },
     "output_type": "display_data"
    }
   ],
   "source": [
    "plt.figure(figsize=(13,4),tight_layout=True)\n",
    "plt.semilogy(np.cumsum(times_toucan), nrmse_toucan, '#ff7f0e',label='TOUCAN')\n",
    "plt.semilogy(np.cumsum(times_toucan_tube), nrmse_toucan_tube, '#ff7f0e',linestyle='--',label='TOUCAN')\n",
    "plt.semilogy(np.cumsum(times_grouse), nrmse_grouse, 'b',label='GROUSE')\n",
    "plt.semilogy(np.cumsum(times_grouse_tube), nrmse_grouse_tube, 'b',linestyle='--',label='GROUSE')\n",
    "plt.semilogy(np.cumsum(times_tensor), nrmse_tensor, 'r',label='TNN-ADMM')\n",
    "plt.semilogy(np.cumsum(times_tensor_tube), nrmse_tensor_tube, 'r',linestyle='--',label='TNN-ADMM')\n",
    "plt.semilogy(np.cumsum(times_tctf), nrmse_tctf, 'k',label='TCTF')\n",
    "plt.semilogy(np.cumsum(times_tctf_tube), nrmse_tctf_tube, 'k',linestyle='--',label='TCTF')\n",
    "plt.semilogy(np.cumsum(times_matrix), nrmse_matrix, 'g',label='MatComp')\n",
    "plt.semilogy(np.cumsum(times_matrix_tube), nrmse_matrix_tube, 'g',linestyle=\"--\",label='Matcomp')\n",
    "\n",
    "max_time = max(max(np.cumsum(times_matrix)),max(np.cumsum(times_tctf)),max(np.cumsum(times_tensor)),max(np.cumsum(times_grouse)))\n",
    "# max_time = max(max(np.cumsum(times_tctf)),max(np.cumsum(times_tensor)),max(np.cumsum(times_toucan)))\n",
    "plt.xlabel('Time (s)')\n",
    "plt.ylabel('NRMSE')\n",
    "# plt.xticks(np.arange(0, max_time, step=10))\n",
    "plt.xticks(np.arange(0, max_time, step=2))\n",
    "handles, labels = plt.gca().get_legend_handles_labels()\n",
    "ids = [0,2,4,6,8]\n",
    "# ids = [0,2,4]\n",
    "handles = [handles[i] for i in ids]\n",
    "labels = [labels[i] for i in ids]\n",
    "plt.legend(handles, labels, bbox_to_anchor=(1.5,0.5),loc='center right')\n",
    "plt.rcParams.update({'font.size': 22})\n",
    "\n",
    "if(tube is False):\n",
    "    name = 'nrmse_times_rand_sample_' + str(r) + '-' + str(n1) + '-' + str(n2) + '-' + str(n3) + '-' + str(int(rho*100)) + '%.eps'\n",
    "else:\n",
    "    name = 'nrmse_times_tube_sample_' + str(r) + '-' + str(n1) + '-' + str(n2) + '-' + str(n3) + '-' + str(int(rho*100)) + '%.eps'\n",
    "plt.savefig(name)\n",
    "plt.show()"
   ]
  },
  {
   "cell_type": "markdown",
   "metadata": {},
   "source": [
    "### Dynamically changing free submodule in time"
   ]
  },
  {
   "cell_type": "code",
   "execution_count": null,
   "metadata": {},
   "outputs": [],
   "source": [
    "# ### Synthetic data sizes\n",
    "# ranks = [2, 4, 6, 8]\n",
    "# # ranks = [2, 4]\n",
    "# # ranks = [1, 3, 5, 7]\n",
    "# num_vec = 2000\n",
    "# tube = False\n",
    "# n1 = 50\n",
    "# n3 = 10\n",
    "# rho = 0.3\n",
    "# sig = 0\n",
    "\n",
    "# stats_toucan = np.zeros((len(ranks),num_vec))\n",
    "\n",
    "# plt.figure(figsize=(12,4),tight_layout=True)\n",
    "# ax = plt.subplot(111)\n",
    "\n",
    "# if(tube is True):\n",
    "#     name = 'nrmse_tracking_tube_sample-' + str(n1) + '-' + str(n3) + '-' + str(int(rho*100)) + '%.eps'\n",
    "# else:\n",
    "#     name = 'nrmse_tracking_rand_sample-' + str(n1) + '-' + str(n3) + '-' + str(int(rho*100)) + '%.eps'\n",
    "\n",
    "# for rank in range(0,len(ranks)):\n",
    "\n",
    "#     r = ranks[rank]\n",
    "\n",
    "#     ### Initialize U\n",
    "#     np.random.seed(10)\n",
    "#     K = r\n",
    "#     U = tsvd(Tensor(np.random.randn(n1,r,n3)),full=False)[0]\n",
    "#     U = Tensor(U.array()[:,:K,:])\n",
    "\n",
    "#     tStart = time.time()\n",
    "#     iter = 0\n",
    "#     for t in range(0,num_vec):\n",
    "\n",
    "#         if(t % 500 == 0):\n",
    "#             P = tsvd(Tensor(np.random.randn(n1,r,n3)),full=False)[0]\n",
    "#             Utrue = Tensor(P.array()[:,:r,:])\n",
    "#             Utrue_frob = tfrobnorm(Utrue * Utrue.T())\n",
    "\n",
    "#         Wtrue = Tensor(np.random.randn(r, 1, n3))\n",
    "#         Yvec = Utrue * Wtrue + Tensor(sig * np.random.randn(n1,1,n3))\n",
    "        \n",
    "#         if(tube): #Tubal sampling\n",
    "#             mask = np.random.rand(n1, 1)\n",
    "#             mask[mask > rho] = 1\n",
    "#             mask[mask <= rho] = 0\n",
    "#             mask = mask.astype(int)\n",
    "#             mask = np.repeat(mask[:, :, np.newaxis], n3, axis=2)\n",
    "#             idx = np.where(mask[:,0,0] > 0)[0]\n",
    "            \n",
    "#             tStart = time.time()\n",
    "#             U,w = toucan_stream_tube(Yvec,idx,U)\n",
    "#             tEnd = time.time()\n",
    "#             tElapsed = tEnd - tStart\n",
    "        \n",
    "#         else: #random entry sampling\n",
    "#             mask = np.random.rand(n1, n3)\n",
    "#             mask[mask > rho] = 1\n",
    "#             mask[mask <= rho] = 0\n",
    "#             mask = mask.astype(int)\n",
    "            \n",
    "#             tStart = time.time()\n",
    "#             U,w,cg_iters = toucan_stream(Yvec,mask,U)\n",
    "#             tEnd = time.time()\n",
    "#             tElapsed = tEnd - tStart\n",
    "\n",
    "#         stats_toucan[rank,iter] = tfrobnorm(Utrue * Utrue.T() - U * U.T()) / Utrue_frob\n",
    "#         iter += 1\n",
    "\n",
    "#         nrmse_toucan = stats_toucan[rank,:]\n",
    "\n",
    "#     ax.semilogy(stats_toucan[rank,:],label='$rank = %r$'%r)\n",
    "# # ax.set_title('TOUCAN: Free Submodule Error')\n",
    "# ax.set_xlabel('Iteration')\n",
    "# ax.set_ylabel('NRMSE')\n",
    "# # Shrink current axis by 20%\n",
    "# # box = ax.get_position()\n",
    "# # ax.set_position([box.x0, box.y0, box.width * 0.8, box.height])\n",
    "\n",
    "# # Put a legend to the right of the current axis\n",
    "# ax.legend(loc='center left', bbox_to_anchor=(1, 0.5))\n",
    "# plt.rcParams.update({'font.size': 22})\n",
    "# plt.savefig(name)\n",
    "# plt.show()"
   ]
  },
  {
   "cell_type": "code",
   "execution_count": null,
   "metadata": {},
   "outputs": [],
   "source": [
    "# from cp_wopt import *\n",
    "from tecpsgd import *\n",
    "from tsvd import *\n"
   ]
  },
  {
   "cell_type": "code",
   "execution_count": null,
   "metadata": {},
   "outputs": [],
   "source": [
    "# r = 1\n",
    "r = 2\n",
    "# r = 5\n",
    "# r =  10\n",
    "n1 = 100\n",
    "n2 = 100\n",
    "n3 = 100\n",
    "np.random.seed(0)\n",
    "# L = synth_tensor(r,n1,n2,n3)\n",
    "\n",
    "# A=np.random.randn(n1, r) \n",
    "# A = A / np.linalg.norm(A,axis=0)\n",
    "# B=np.random.randn(n2, r)\n",
    "# B = B / np.linalg.norm(B,axis=0)\n",
    "# C=np.random.randn(n3, r)\n",
    "# C = C / np.linalg.norm(C,axis=0)\n",
    "\n",
    "A=np.random.randn(n1, r)\n",
    "B=np.random.randn(n2, r)\n",
    "C=np.random.randn(n3, r)\n",
    "\n",
    "#Create observed tensor that follows PARAFAC model\n",
    "L_cp = np.zeros((n1,n2,n3))\n",
    "for k in range(0,n3):\n",
    "    L_cp[:,:,k]=A@np.diag(C[k,:])@B.T\n",
    "\n",
    "tube = False\n",
    "rho = 0.5  # percentage of missing entries\n",
    "# rho = 1 - r*n3 / (n1*n3)\n",
    "print(rho)\n",
    "\n",
    "if(tube is False):\n",
    "    mask = np.random.rand(n1, n2, n3)\n",
    "    mask[mask > rho] = 1\n",
    "    mask[mask <= rho] = 0\n",
    "    mask = mask.astype(int)\n",
    "else:\n",
    "    mask = np.random.rand(n1, n2)\n",
    "    mask[mask > rho] = 1\n",
    "    mask[mask <= rho] = 0\n",
    "    mask = mask.astype(int)\n",
    "    mask = np.repeat(mask[:, :, np.newaxis], n3, axis=2)\n",
    "    \n",
    "sig = 0\n",
    "\n",
    "L_cp += sig*np.random.randn(n1,n2,n3)\n",
    "\n",
    "L_cp_frob = tfrobnorm(Tensor(L_cp))"
   ]
  },
  {
   "cell_type": "code",
   "execution_count": null,
   "metadata": {},
   "outputs": [],
   "source": [
    "\n",
    "### TeCPSGD\n",
    "\n",
    "# Tensor_Y_Noiseless = np.transpose(L.array(),[0,2,1])\n",
    "Tensor_Y_Noiseless = L_cp.copy()\n",
    "rank = r\n",
    "# OmegaTensor = np.transpose(mask,[0,2,1])\n",
    "OmegaTensor = mask.copy()\n",
    "# tensor_dims = [n1,n3,n2]\n",
    "tensor_dims = [n1,n2,n3]\n",
    "maxepochs = 5\n",
    "tolcost = 1e-14\n",
    "permute_on = False\n",
    "\n",
    "options = {\n",
    "    'maxepochs': maxepochs,\n",
    "    'tolcost': tolcost,\n",
    "    'lam': 0.001,\n",
    "    'stepsize': 0.5,\n",
    "#     'mu': 0.05,\n",
    "    'permute_on':  permute_on,\n",
    "    'store_subinfo': True,\n",
    "    'store_matrix': False,\n",
    "    'verbose': True\n",
    "}\n",
    "\n",
    "fun = lambda X: np.sqrt(np.sum((X - L_cp)**2)) / L_cp_frob\n",
    "\n",
    "Xinit = {\n",
    "    'A': np.random.randn(tensor_dims[0], rank),\n",
    "    'B': np.random.randn(tensor_dims[1], rank),\n",
    "    'C': np.random.randn(tensor_dims[2], rank)\n",
    "}\n",
    "\n",
    "\n",
    "Xsol_TeCPSGD, Y_hat_tecpsgd, info_TeCPSGD, sub_infos_TeCPSGD = TeCPSGD(Tensor_Y_Noiseless, OmegaTensor, None, tensor_dims, rank,\n",
    "                                                          Xinit, options,fun=fun)\n",
    "\n",
    "A_t0 = Xsol_TeCPSGD['A']\n",
    "B_t0 = Xsol_TeCPSGD['B']\n",
    "C_t0 = Xsol_TeCPSGD['C']\n",
    "\n",
    "\n",
    "nrmse_tecpsgd = sub_infos_TeCPSGD['error'][1:]\n",
    "\n",
    "# idx = np.where(nrmse_tecpsgd > tol)[0]\n",
    "# nrmse_tecpsgd = nrmse_tecpsgd[idx]\n",
    "times_tecpsgd = sub_infos_TeCPSGD['times'][1:]\n",
    "# times_tecpsgd = times_tecpsgd[idx]\n"
   ]
  },
  {
   "cell_type": "code",
   "execution_count": null,
   "metadata": {},
   "outputs": [],
   "source": [
    "tol = 1e-9\n",
    "idx = np.where(nrmse_tecpsgd > tol)[0]\n",
    "nrmse_tecpsgd = nrmse_tecpsgd[idx]\n",
    "times_tecpsgd = times_tecpsgd[idx]"
   ]
  },
  {
   "cell_type": "code",
   "execution_count": null,
   "metadata": {},
   "outputs": [],
   "source": [
    "### OLSTEC\n",
    "\n",
    "from olstec import *\n",
    "\n",
    "rank = r\n",
    "maxepochs = 5\n",
    "tolcost = 1e-14\n",
    "permute_on = False\n",
    "\n",
    "options = {\n",
    "    'maxepochs': maxepochs,\n",
    "    'tolcost': tolcost,\n",
    "    'lam': 1,\n",
    "    'stepsize': 0.7,\n",
    "    'mu': 0.01,\n",
    "    'permute_on':  permute_on,\n",
    "    'store_subinfo': True,\n",
    "    'store_matrix': False,\n",
    "    'verbose': True,\n",
    "    'tw_flag': None,\n",
    "    'tw_len': None\n",
    "}\n",
    "\n",
    "np.random.seed(0)\n",
    "Xinit = {\n",
    "    'A': np.random.randn(tensor_dims[0], rank),\n",
    "    'B': np.random.randn(tensor_dims[1], rank),\n",
    "    'C': np.random.randn(tensor_dims[2], rank)\n",
    "}\n",
    "\n",
    "print(Tensor_Y_Noiseless.shape)\n",
    "Xsol_olstec, Y_hat_olstec, info_olstec, sub_infos_olstec = OLSTEC(Tensor_Y_Noiseless, OmegaTensor, None, tensor_dims, rank,\n",
    "                                                          Xinit, options, fun=fun)\n",
    "\n",
    "A_t0 = Xsol_olstec['A']\n",
    "B_t0 = Xsol_olstec['B']\n",
    "C_t0 = Xsol_olstec['C']\n",
    "\n",
    "nrmse_olstec = sub_infos_olstec['error'][1:]\n",
    "times_olstec = sub_infos_olstec['times'][1:]"
   ]
  },
  {
   "cell_type": "code",
   "execution_count": null,
   "metadata": {},
   "outputs": [],
   "source": [
    "### STC\n",
    "\n",
    "## Sequential Tensor Completion\n",
    "from stc import *\n",
    "Tensor_Y = Tensor_Y_Noiseless.copy()\n",
    "Mask_Y = OmegaTensor.copy()\n",
    "numcycles = 1\n",
    "outer = 7\n",
    "r1 = r\n",
    "r2 = r\n",
    "r3 = r\n",
    "\n",
    "fun = lambda X, k: [0,np.sqrt(np.sum((X - L_cp)**2)) / L_cp_frob]\n",
    "\n",
    "Lhat_stc, stats_stc, tElapsed_stc = stc(Tensor_Y,Mask_Y,r1,r2,r3,outer,numcycles,tol=tol,fun=fun,verbose=True)\n",
    "\n",
    "# nrmse_stc = frobnorm_array(Lhat_stc - L_cp) / L_cp_frob\n",
    "print('STC Time: {:4f}'.format(tElapsed_stc))\n",
    "# print('NRMSE STC: {:6f}'.format(nrmse_stc))\n"
   ]
  },
  {
   "cell_type": "code",
   "execution_count": null,
   "metadata": {},
   "outputs": [],
   "source": [
    "nrmse_stc = stats_stc[:,1]\n",
    "idx = np.where(nrmse_stc > 0)\n",
    "nrmse_stc = nrmse_stc[idx]\n",
    "times_stc = stats_stc[:,-1][idx]"
   ]
  },
  {
   "cell_type": "code",
   "execution_count": null,
   "metadata": {},
   "outputs": [],
   "source": [
    "### TOUCAN\n",
    "tol = 1e-9\n",
    "\n",
    "fun = lambda X,k: [0,tfrobnorm(X - L) / Lfrob]\n",
    "L = Tensor(np.transpose(L_cp,(0,2,1)))\n",
    "Lfrob = tfrobnorm(L)\n",
    "mask_t = np.transpose(mask,(0,2,1)) \n",
    "Y = Tensor(L.array() * mask_t)\n",
    "# fun = lambda X,k: [0, tfrobnorm_array(X - L.array()[:,k,:]) / tfrobnorm_array(L.array()[:,k,:])]\n",
    "Y_hat_toucan, U, stats_toucan, tElapsed_toucan = toucan(Y,mask_t,rank=r,tube=tube,outer=3,mode=\"online\",tol=tol,cgiter = None,cgtol=tol,fun=fun,\n",
    "                                                     randomOrder=False,verbose=True)\n",
    "\n",
    "toucan_nrmse = tfrobnorm(Y_hat_toucan - L) / Lfrob\n",
    "print('TOUCAN Time: {:4f}'.format(tElapsed_toucan))\n",
    "print('TOUCAN NRMSE: {:8f}'.format(toucan_nrmse))\n",
    "\n",
    "nrmse_toucan = stats_toucan[:,1]\n",
    "cgiter_toucan = stats_toucan[:,2]\n",
    "times_toucan = stats_toucan[:,-1]"
   ]
  },
  {
   "cell_type": "code",
   "execution_count": null,
   "metadata": {},
   "outputs": [],
   "source": [
    "### TNN-ADMM\n",
    "\n",
    "fun = lambda X: [0, tfrobnorm(X - L) / Lfrob]\n",
    "niter = 150\n",
    "Xhat, stats, tElapsed_tensor = lrtc(Y, mask_t, niter=niter,tol=tol, fun=fun, verbose = True)\n",
    "\n",
    "cost_tnn = stats[:,0]\n",
    "nrmse_tnn = stats[:,1]\n",
    "times_tnn = stats[:,2]\n",
    "\n",
    "print('Time elapsed: Tensor: {:.3f} '.format(tElapsed_tensor))\n",
    "print('Final NRMSE: Tensor: {:.8f} '.format(nrmse_tnn[-1]))\n",
    "\n",
    "plt.subplot(1,2,1)\n",
    "plt.semilogy(cost_tnn)\n",
    "plt.xlabel('Iteration')\n",
    "plt.title('Cost function')\n",
    "plt.subplot(1,2,2)\n",
    "plt.semilogy(nrmse_tnn)\n",
    "plt.xlabel('Iteration')\n",
    "plt.title('NRMSE')\n",
    "plt.show()"
   ]
  },
  {
   "cell_type": "code",
   "execution_count": null,
   "metadata": {},
   "outputs": [],
   "source": [
    "### TCTF\n",
    "\n",
    "fun = lambda U,V: [0, tfrobnorm(U*V - L) / Lfrob]\n",
    "Xtctf,Ztctf, stats_tctf, tElapsed_tctf = tctf(Y,mask_t,rank=r,niter = 200,tol=tol,fun=fun,verbose=True)\n",
    "Y_hat_tctf = Xtctf * Ztctf\n",
    "\n",
    "nrmse_tctf = stats_tctf[:,1]\n",
    "times_tctf = stats_tctf[:,-1]\n",
    "print('TCTF Time: {:4f}'.format(tElapsed_tctf))\n",
    "print('TCTF NRMSE: {:8f}'.format(nrmse_tctf[-1]))\n",
    "\n",
    "plt.semilogy(nrmse_tctf)\n",
    "plt.xlabel('Iteration')\n",
    "plt.title('NRMSE')\n",
    "plt.show()"
   ]
  },
  {
   "cell_type": "code",
   "execution_count": null,
   "metadata": {},
   "outputs": [],
   "source": [
    "# L_m = lr_flatten(L_cp)\n",
    "L_m = np.reshape(L_cp,(n1*n2,n3))\n",
    "# mask_m = lr_flatten(mask)\n",
    "mask_m = np.reshape(mask,(n1*n2,n3))\n",
    "\n",
    "Y_m = L_m * mask_m"
   ]
  },
  {
   "cell_type": "code",
   "execution_count": null,
   "metadata": {},
   "outputs": [],
   "source": [
    "## Matrix Completion\n",
    "\n",
    "cost_fun = lambda X: [0, np.linalg.norm(X - L_m, 'fro') / np.linalg.norm(L_m, 'fro')]\n",
    "\n",
    "niter_mc = 200\n",
    "Xhat_m, stats, tElapsed_matrix = lrmc(Y_m,mask_m,niter=niter_mc,fun=cost_fun)\n",
    "\n",
    "cost_matrix = stats[:,0]\n",
    "nrmse_matrix = stats[:,1]\n",
    "times_matrix = stats[:,2]\n",
    "\n",
    "print('Time elapsed: Mat Comp: {:.3f} '.format(tElapsed_matrix))\n",
    "print('Final NRMSE: Mat Comp: {:.8f} '.format(nrmse_matrix[-1]))\n",
    "\n"
   ]
  },
  {
   "cell_type": "code",
   "execution_count": null,
   "metadata": {},
   "outputs": [],
   "source": [
    "## GROUSE\n",
    "\n",
    "rank = r\n",
    "fun = lambda X: [0, np.linalg.norm(X - L_m, 'fro') / np.linalg.norm(L_m, 'fro')]\n",
    "Ym_hat_grouse, stats_grouse, tElapsed_grouse = grouse(Y_m, mask_m, rank,outer=20,mode=\"batch\",fun=fun,randomOrder=False,\n",
    "                                                      verbose=False)\n",
    "grouse_nrmse = np.linalg.norm(Ym_hat_grouse - L_m,'fro') / np.linalg.norm(L_m,'fro')\n",
    "print('GROUSE Time: {:4f}'.format(tElapsed_grouse))\n",
    "print('GROUSE NRMSE: {:4f}'.format(grouse_nrmse))\n",
    "        \n",
    "nrmse_grouse = stats_grouse[:,1]\n",
    "times_grouse = stats_grouse[:,-1]\n",
    "tElapsed_grouse = np.sum(times_grouse)\n",
    "plt.semilogy(nrmse_grouse)\n",
    "plt.title('GROUSE: Recovered Tensor NRMSE')\n",
    "plt.xlabel('Iteration')\n",
    "plt.show()"
   ]
  },
  {
   "cell_type": "code",
   "execution_count": null,
   "metadata": {},
   "outputs": [],
   "source": [
    "plt.figure(figsize=(13,5),tight_layout=True)\n",
    "plt.semilogy(np.cumsum(times_toucan),nrmse_toucan,'#ff7f0e',label='TOUCAN')\n",
    "plt.semilogy(np.cumsum(times_tecpsgd),nrmse_tecpsgd,'#00FFFF',label='TeCPSGD')\n",
    "plt.semilogy(np.cumsum(times_olstec),nrmse_olstec,'#8B008B',label='OLSTEC')\n",
    "plt.semilogy(np.cumsum(times_tnn),nrmse_tnn,'r',label='TNN-ADMM')\n",
    "plt.semilogy(np.cumsum(times_tctf),nrmse_tctf,'k',label='TCTF')\n",
    "plt.semilogy(np.cumsum(times_stc),nrmse_stc,'#FF007F',label='STC')\n",
    "plt.semilogy(np.cumsum(times_matrix),nrmse_matrix,'g',label='MatComp')\n",
    "plt.semilogy(np.cumsum(times_grouse),nrmse_grouse,'b',label='GROUSE')\n",
    "plt.xlabel('Time (s)')\n",
    "plt.ylabel('NRMSE')\n",
    "plt.legend(bbox_to_anchor=(1.5,0.5),loc='center right')\n",
    "plt.rcParams.update({'font.size': 22})\n",
    "name = 'cp_synth_' + np.str(r) + '-' + np.str(n1) + '-' + np.str(n2) + '-' + np.str(n3) + '_' + np.str(rho * 100) + '.png'\n",
    "plt.savefig(name)\n",
    "plt.show()"
   ]
  },
  {
   "cell_type": "code",
   "execution_count": null,
   "metadata": {},
   "outputs": [],
   "source": []
  }
 ],
 "metadata": {
  "@webio": {
   "lastCommId": null,
   "lastKernelId": null
  },
  "kernelspec": {
   "display_name": "Python 3",
   "language": "python",
   "name": "python3"
  },
  "language_info": {
   "codemirror_mode": {
    "name": "ipython",
    "version": 3
   },
   "file_extension": ".py",
   "mimetype": "text/x-python",
   "name": "python",
   "nbconvert_exporter": "python",
   "pygments_lexer": "ipython3",
   "version": "3.6.6"
  }
 },
 "nbformat": 4,
 "nbformat_minor": 2
}
